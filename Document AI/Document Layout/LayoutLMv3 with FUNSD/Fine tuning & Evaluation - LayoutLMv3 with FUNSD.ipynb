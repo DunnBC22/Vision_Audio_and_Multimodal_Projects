{
 "cells": [
  {
   "cell_type": "markdown",
   "metadata": {},
   "source": [
    "## Fine-Tuning LayoutLMv3 Using FUNSD Dataset\n",
    "\n",
    "Dataset Source: https://huggingface.co/datasets/nielsr/funsd-layoutlmv3"
   ]
  },
  {
   "cell_type": "markdown",
   "metadata": {},
   "source": [
    "#### Install Necessary Libraries"
   ]
  },
  {
   "cell_type": "code",
   "execution_count": 1,
   "metadata": {},
   "outputs": [
    {
     "name": "stdout",
     "output_type": "stream",
     "text": [
      "Requirement already satisfied: datasets in /Users/briandunn/Desktop/python_venvs/text_sum/lib/python3.9/site-packages (2.14.5)\n",
      "Requirement already satisfied: transformers in /Users/briandunn/Desktop/python_venvs/text_sum/lib/python3.9/site-packages (4.33.2)\n",
      "Requirement already satisfied: tensorboard in /Users/briandunn/Desktop/python_venvs/text_sum/lib/python3.9/site-packages (2.14.0)\n",
      "Requirement already satisfied: seqeval in /Users/briandunn/Desktop/python_venvs/text_sum/lib/python3.9/site-packages (1.2.2)\n",
      "Requirement already satisfied: accelerate in /Users/briandunn/Desktop/python_venvs/text_sum/lib/python3.9/site-packages (0.23.0)\n",
      "Requirement already satisfied: torch in /Users/briandunn/Desktop/python_venvs/text_sum/lib/python3.9/site-packages (2.0.1)\n",
      "Requirement already satisfied: numpy>=1.17 in /Users/briandunn/Desktop/python_venvs/text_sum/lib/python3.9/site-packages (from datasets) (1.25.1)\n",
      "Requirement already satisfied: pyarrow>=8.0.0 in /Users/briandunn/Desktop/python_venvs/text_sum/lib/python3.9/site-packages (from datasets) (12.0.1)\n",
      "Requirement already satisfied: dill<0.3.8,>=0.3.0 in /Users/briandunn/Desktop/python_venvs/text_sum/lib/python3.9/site-packages (from datasets) (0.3.6)\n",
      "Requirement already satisfied: pandas in /Users/briandunn/Desktop/python_venvs/text_sum/lib/python3.9/site-packages (from datasets) (2.0.3)\n",
      "Requirement already satisfied: requests>=2.19.0 in /Users/briandunn/Desktop/python_venvs/text_sum/lib/python3.9/site-packages (from datasets) (2.31.0)\n",
      "Requirement already satisfied: tqdm>=4.62.1 in /Users/briandunn/Desktop/python_venvs/text_sum/lib/python3.9/site-packages (from datasets) (4.65.0)\n",
      "Requirement already satisfied: xxhash in /Users/briandunn/Desktop/python_venvs/text_sum/lib/python3.9/site-packages (from datasets) (3.2.0)\n",
      "Requirement already satisfied: multiprocess in /Users/briandunn/Desktop/python_venvs/text_sum/lib/python3.9/site-packages (from datasets) (0.70.14)\n",
      "Requirement already satisfied: fsspec[http]<2023.9.0,>=2023.1.0 in /Users/briandunn/Desktop/python_venvs/text_sum/lib/python3.9/site-packages (from datasets) (2023.6.0)\n",
      "Requirement already satisfied: aiohttp in /Users/briandunn/Desktop/python_venvs/text_sum/lib/python3.9/site-packages (from datasets) (3.8.4)\n",
      "Requirement already satisfied: huggingface-hub<1.0.0,>=0.14.0 in /Users/briandunn/Desktop/python_venvs/text_sum/lib/python3.9/site-packages (from datasets) (0.16.4)\n",
      "Requirement already satisfied: packaging in /Users/briandunn/Desktop/python_venvs/text_sum/lib/python3.9/site-packages (from datasets) (23.1)\n",
      "Requirement already satisfied: pyyaml>=5.1 in /Users/briandunn/Desktop/python_venvs/text_sum/lib/python3.9/site-packages (from datasets) (6.0)\n",
      "Requirement already satisfied: filelock in /Users/briandunn/Desktop/python_venvs/text_sum/lib/python3.9/site-packages (from transformers) (3.12.2)\n",
      "Requirement already satisfied: regex!=2019.12.17 in /Users/briandunn/Desktop/python_venvs/text_sum/lib/python3.9/site-packages (from transformers) (2023.6.3)\n",
      "Requirement already satisfied: tokenizers!=0.11.3,<0.14,>=0.11.1 in /Users/briandunn/Desktop/python_venvs/text_sum/lib/python3.9/site-packages (from transformers) (0.13.3)\n",
      "Requirement already satisfied: safetensors>=0.3.1 in /Users/briandunn/Desktop/python_venvs/text_sum/lib/python3.9/site-packages (from transformers) (0.3.3)\n",
      "Requirement already satisfied: absl-py>=0.4 in /Users/briandunn/Desktop/python_venvs/text_sum/lib/python3.9/site-packages (from tensorboard) (1.4.0)\n",
      "Requirement already satisfied: grpcio>=1.48.2 in /Users/briandunn/Desktop/python_venvs/text_sum/lib/python3.9/site-packages (from tensorboard) (1.56.0)\n",
      "Requirement already satisfied: google-auth<3,>=1.6.3 in /Users/briandunn/Desktop/python_venvs/text_sum/lib/python3.9/site-packages (from tensorboard) (2.22.0)\n",
      "Requirement already satisfied: google-auth-oauthlib<1.1,>=0.5 in /Users/briandunn/Desktop/python_venvs/text_sum/lib/python3.9/site-packages (from tensorboard) (1.0.0)\n",
      "Requirement already satisfied: markdown>=2.6.8 in /Users/briandunn/Desktop/python_venvs/text_sum/lib/python3.9/site-packages (from tensorboard) (3.4.3)\n",
      "Requirement already satisfied: protobuf>=3.19.6 in /Users/briandunn/Desktop/python_venvs/text_sum/lib/python3.9/site-packages (from tensorboard) (4.23.4)\n",
      "Requirement already satisfied: setuptools>=41.0.0 in /Users/briandunn/Desktop/python_venvs/text_sum/lib/python3.9/site-packages (from tensorboard) (58.1.0)\n",
      "Requirement already satisfied: tensorboard-data-server<0.8.0,>=0.7.0 in /Users/briandunn/Desktop/python_venvs/text_sum/lib/python3.9/site-packages (from tensorboard) (0.7.1)\n",
      "Requirement already satisfied: werkzeug>=1.0.1 in /Users/briandunn/Desktop/python_venvs/text_sum/lib/python3.9/site-packages (from tensorboard) (2.3.6)\n",
      "Requirement already satisfied: wheel>=0.26 in /Users/briandunn/Desktop/python_venvs/text_sum/lib/python3.9/site-packages (from tensorboard) (0.40.0)\n",
      "Requirement already satisfied: scikit-learn>=0.21.3 in /Users/briandunn/Desktop/python_venvs/text_sum/lib/python3.9/site-packages (from seqeval) (1.3.0)\n",
      "Requirement already satisfied: psutil in /Users/briandunn/Desktop/python_venvs/text_sum/lib/python3.9/site-packages (from accelerate) (5.9.5)\n",
      "Requirement already satisfied: typing-extensions in /Users/briandunn/Desktop/python_venvs/text_sum/lib/python3.9/site-packages (from torch) (4.7.1)\n",
      "Requirement already satisfied: sympy in /Users/briandunn/Desktop/python_venvs/text_sum/lib/python3.9/site-packages (from torch) (1.12)\n",
      "Requirement already satisfied: networkx in /Users/briandunn/Desktop/python_venvs/text_sum/lib/python3.9/site-packages (from torch) (3.1)\n",
      "Requirement already satisfied: jinja2 in /Users/briandunn/Desktop/python_venvs/text_sum/lib/python3.9/site-packages (from torch) (3.1.2)\n",
      "Requirement already satisfied: attrs>=17.3.0 in /Users/briandunn/Desktop/python_venvs/text_sum/lib/python3.9/site-packages (from aiohttp->datasets) (23.1.0)\n",
      "Requirement already satisfied: charset-normalizer<4.0,>=2.0 in /Users/briandunn/Desktop/python_venvs/text_sum/lib/python3.9/site-packages (from aiohttp->datasets) (3.2.0)\n",
      "Requirement already satisfied: multidict<7.0,>=4.5 in /Users/briandunn/Desktop/python_venvs/text_sum/lib/python3.9/site-packages (from aiohttp->datasets) (6.0.4)\n",
      "Requirement already satisfied: async-timeout<5.0,>=4.0.0a3 in /Users/briandunn/Desktop/python_venvs/text_sum/lib/python3.9/site-packages (from aiohttp->datasets) (4.0.2)\n",
      "Requirement already satisfied: yarl<2.0,>=1.0 in /Users/briandunn/Desktop/python_venvs/text_sum/lib/python3.9/site-packages (from aiohttp->datasets) (1.9.2)\n",
      "Requirement already satisfied: frozenlist>=1.1.1 in /Users/briandunn/Desktop/python_venvs/text_sum/lib/python3.9/site-packages (from aiohttp->datasets) (1.4.0)\n",
      "Requirement already satisfied: aiosignal>=1.1.2 in /Users/briandunn/Desktop/python_venvs/text_sum/lib/python3.9/site-packages (from aiohttp->datasets) (1.3.1)\n",
      "Requirement already satisfied: cachetools<6.0,>=2.0.0 in /Users/briandunn/Desktop/python_venvs/text_sum/lib/python3.9/site-packages (from google-auth<3,>=1.6.3->tensorboard) (5.3.1)\n",
      "Requirement already satisfied: pyasn1-modules>=0.2.1 in /Users/briandunn/Desktop/python_venvs/text_sum/lib/python3.9/site-packages (from google-auth<3,>=1.6.3->tensorboard) (0.3.0)\n",
      "Requirement already satisfied: rsa<5,>=3.1.4 in /Users/briandunn/Desktop/python_venvs/text_sum/lib/python3.9/site-packages (from google-auth<3,>=1.6.3->tensorboard) (4.9)\n",
      "Requirement already satisfied: six>=1.9.0 in /Users/briandunn/Desktop/python_venvs/text_sum/lib/python3.9/site-packages (from google-auth<3,>=1.6.3->tensorboard) (1.16.0)\n",
      "Requirement already satisfied: urllib3<2.0 in /Users/briandunn/Desktop/python_venvs/text_sum/lib/python3.9/site-packages (from google-auth<3,>=1.6.3->tensorboard) (1.26.16)\n",
      "Requirement already satisfied: requests-oauthlib>=0.7.0 in /Users/briandunn/Desktop/python_venvs/text_sum/lib/python3.9/site-packages (from google-auth-oauthlib<1.1,>=0.5->tensorboard) (1.3.1)\n",
      "Requirement already satisfied: importlib-metadata>=4.4 in /Users/briandunn/Desktop/python_venvs/text_sum/lib/python3.9/site-packages (from markdown>=2.6.8->tensorboard) (6.8.0)\n",
      "Requirement already satisfied: idna<4,>=2.5 in /Users/briandunn/Desktop/python_venvs/text_sum/lib/python3.9/site-packages (from requests>=2.19.0->datasets) (3.4)\n",
      "Requirement already satisfied: certifi>=2017.4.17 in /Users/briandunn/Desktop/python_venvs/text_sum/lib/python3.9/site-packages (from requests>=2.19.0->datasets) (2023.5.7)\n",
      "Requirement already satisfied: scipy>=1.5.0 in /Users/briandunn/Desktop/python_venvs/text_sum/lib/python3.9/site-packages (from scikit-learn>=0.21.3->seqeval) (1.11.1)\n",
      "Requirement already satisfied: joblib>=1.1.1 in /Users/briandunn/Desktop/python_venvs/text_sum/lib/python3.9/site-packages (from scikit-learn>=0.21.3->seqeval) (1.3.1)\n",
      "Requirement already satisfied: threadpoolctl>=2.0.0 in /Users/briandunn/Desktop/python_venvs/text_sum/lib/python3.9/site-packages (from scikit-learn>=0.21.3->seqeval) (3.2.0)\n",
      "Requirement already satisfied: MarkupSafe>=2.1.1 in /Users/briandunn/Desktop/python_venvs/text_sum/lib/python3.9/site-packages (from werkzeug>=1.0.1->tensorboard) (2.1.3)\n",
      "Requirement already satisfied: python-dateutil>=2.8.2 in /Users/briandunn/Desktop/python_venvs/text_sum/lib/python3.9/site-packages (from pandas->datasets) (2.8.2)\n",
      "Requirement already satisfied: pytz>=2020.1 in /Users/briandunn/Desktop/python_venvs/text_sum/lib/python3.9/site-packages (from pandas->datasets) (2023.3)\n",
      "Requirement already satisfied: tzdata>=2022.1 in /Users/briandunn/Desktop/python_venvs/text_sum/lib/python3.9/site-packages (from pandas->datasets) (2023.3)\n",
      "Requirement already satisfied: mpmath>=0.19 in /Users/briandunn/Desktop/python_venvs/text_sum/lib/python3.9/site-packages (from sympy->torch) (1.3.0)\n",
      "Requirement already satisfied: zipp>=0.5 in /Users/briandunn/Desktop/python_venvs/text_sum/lib/python3.9/site-packages (from importlib-metadata>=4.4->markdown>=2.6.8->tensorboard) (3.16.2)\n",
      "Requirement already satisfied: pyasn1<0.6.0,>=0.4.6 in /Users/briandunn/Desktop/python_venvs/text_sum/lib/python3.9/site-packages (from pyasn1-modules>=0.2.1->google-auth<3,>=1.6.3->tensorboard) (0.5.0)\n",
      "Requirement already satisfied: oauthlib>=3.0.0 in /Users/briandunn/Desktop/python_venvs/text_sum/lib/python3.9/site-packages (from requests-oauthlib>=0.7.0->google-auth-oauthlib<1.1,>=0.5->tensorboard) (3.2.2)\n",
      "Note: you may need to restart the kernel to use updated packages.\n"
     ]
    }
   ],
   "source": [
    "%pip install datasets transformers tensorboard seqeval accelerate torch -U"
   ]
  },
  {
   "cell_type": "markdown",
   "metadata": {},
   "source": [
    "#### Import Necessary Libraries"
   ]
  },
  {
   "cell_type": "code",
   "execution_count": 2,
   "metadata": {},
   "outputs": [
    {
     "name": "stdout",
     "output_type": "stream",
     "text": [
      "Git LFS initialized.\n"
     ]
    }
   ],
   "source": [
    "import os, sys\n",
    "\n",
    "\n",
    "import numpy as np\n",
    "\n",
    "import datasets\n",
    "from datasets.features import ClassLabel\n",
    "from datasets import (\n",
    "    load_dataset,\n",
    "    Features,\n",
    "    Sequence,\n",
    "    ClassLabel,\n",
    "    Value,\n",
    "    Array2D,\n",
    "    Array3D\n",
    ")\n",
    "\n",
    "import torch\n",
    "\n",
    "import transformers\n",
    "from transformers import (\n",
    "    AutoProcessor,\n",
    "    Trainer,\n",
    "    TrainingArguments,\n",
    "    LayoutLMv3ForTokenClassification\n",
    ")\n",
    "\n",
    "from transformers.data.data_collator import default_data_collator\n",
    "\n",
    "import evaluate\n",
    "\n",
    "!git lfs install"
   ]
  },
  {
   "cell_type": "markdown",
   "metadata": {},
   "source": [
    "#### Display Library Versions"
   ]
  },
  {
   "cell_type": "code",
   "execution_count": 27,
   "metadata": {},
   "outputs": [
    {
     "name": "stdout",
     "output_type": "stream",
     "text": [
      "+-------------------------------+\n",
      "|        Library | Version      |\n",
      "|-------------------------------|\n",
      "|         Python | 3.9.12       |\n",
      "|          NumPy | 1.25.1       |\n",
      "|       Evaluate | 0.4.0        |\n",
      "|       Datasets | 2.14.5       |\n",
      "|    Transformer | 4.33.2       |\n",
      "+-------------------------------+\n"
     ]
    }
   ],
   "source": [
    "library_len = 14\n",
    "version_len = 12\n",
    "\n",
    "print(f\"+{'-' * (library_len + version_len + 5)}+\")\n",
    "print(\"|\",\n",
    "      \"Library\".rjust(library_len),\n",
    "      \"|\",\n",
    "      \"Version\".ljust(version_len),\n",
    "      \"|\")\n",
    "\n",
    "print(f\"|{'-' * (library_len + version_len + 5)}|\")\n",
    "\n",
    "print(\"|\",\n",
    "      \"Python\".rjust(library_len),\n",
    "      \"|\",\n",
    "      sys.version[0:6].ljust(version_len),\n",
    "      \"|\")\n",
    "\n",
    "print(\"|\",\n",
    "      \"NumPy\".rjust(library_len),\n",
    "      \"|\",\n",
    "      np.__version__.ljust(version_len),\n",
    "      \"|\")\n",
    "\n",
    "print(\"|\",\n",
    "      \"Evaluate\".rjust(library_len),\n",
    "      \"|\",\n",
    "      evaluate.__version__.ljust(version_len),\n",
    "      \"|\")\n",
    "\n",
    "print(\"|\",\n",
    "      \"Datasets\".rjust(library_len),\n",
    "      \"|\",\n",
    "      datasets.__version__.ljust(version_len),\n",
    "      \"|\")\n",
    "\n",
    "print(\"|\",\n",
    "      \"Transformer\".rjust(library_len),\n",
    "      \"|\",\n",
    "      transformers.__version__.ljust(version_len),\n",
    "      \"|\")\n",
    "\n",
    "print(f\"+{'-' * (library_len + version_len + 5)}+\")"
   ]
  },
  {
   "cell_type": "markdown",
   "metadata": {},
   "source": [
    "#### Load Dataset"
   ]
  },
  {
   "cell_type": "code",
   "execution_count": 4,
   "metadata": {},
   "outputs": [
    {
     "data": {
      "text/plain": [
       "DatasetDict({\n",
       "    train: Dataset({\n",
       "        features: ['id', 'tokens', 'bboxes', 'ner_tags', 'image'],\n",
       "        num_rows: 149\n",
       "    })\n",
       "    test: Dataset({\n",
       "        features: ['id', 'tokens', 'bboxes', 'ner_tags', 'image'],\n",
       "        num_rows: 50\n",
       "    })\n",
       "})"
      ]
     },
     "execution_count": 4,
     "metadata": {},
     "output_type": "execute_result"
    }
   ],
   "source": [
    "DATASET_NAME = \"nielsr/funsd-layoutlmv3\"\n",
    "\n",
    "data = load_dataset(DATASET_NAME)\n",
    "\n",
    "data"
   ]
  },
  {
   "cell_type": "markdown",
   "metadata": {},
   "source": [
    "#### Display More Information About Dataset"
   ]
  },
  {
   "cell_type": "code",
   "execution_count": 5,
   "metadata": {},
   "outputs": [
    {
     "data": {
      "text/plain": [
       "{'id': Value(dtype='string', id=None),\n",
       " 'tokens': Sequence(feature=Value(dtype='string', id=None), length=-1, id=None),\n",
       " 'bboxes': Sequence(feature=Sequence(feature=Value(dtype='int64', id=None), length=-1, id=None), length=-1, id=None),\n",
       " 'ner_tags': Sequence(feature=ClassLabel(names=['O', 'B-HEADER', 'I-HEADER', 'B-QUESTION', 'I-QUESTION', 'B-ANSWER', 'I-ANSWER'], id=None), length=-1, id=None),\n",
       " 'image': Image(decode=True, id=None)}"
      ]
     },
     "execution_count": 5,
     "metadata": {},
     "output_type": "execute_result"
    }
   ],
   "source": [
    "data['train'].features"
   ]
  },
  {
   "cell_type": "markdown",
   "metadata": {},
   "source": [
    "#### Display A Sample"
   ]
  },
  {
   "cell_type": "code",
   "execution_count": 6,
   "metadata": {},
   "outputs": [
    {
     "data": {
      "image/jpeg": "[encoded data removed]",
      "image/png": "[encoded data removed]",
      "text/plain": [
       "<PIL.PngImagePlugin.PngImageFile image mode=RGB size=762x1000>"
      ]
     },
     "execution_count": 6,
     "metadata": {},
     "output_type": "execute_result"
    }
   ],
   "source": [
    "sample = data['train'][23]\n",
    "\n",
    "sample[\"image\"]"
   ]
  },
  {
   "cell_type": "markdown",
   "metadata": {},
   "source": [
    "#### More Information About Sample Image"
   ]
  },
  {
   "cell_type": "code",
   "execution_count": 7,
   "metadata": {},
   "outputs": [
    {
     "name": "stdout",
     "output_type": "stream",
     "text": [
      "Words: \n",
      "['Agency:', 'Contact:', 'Date:', 'Client:', 'Address:', 'Product:', 'Film Cleared:', 'RECEIVED', 'CF:', 'cb', 'AMERICAN', 'BROADCASTING', 'COMPANY', 'TELEVISION', 'NETWORK', '1333', 'Avenue', 'of', 'the', 'Americas,', 'New', 'York,', 'New', 'York', '10019', 'LT', '1-', '7777', 'SSC&B,', 'Inc', 'September', '25,', '1969', 'Larry', 'Odum', '575', 'Lexington', 'Avenue,', 'New', 'York,', 'New', 'York', '10022', 'American', 'Tobacco', 'Company', 'Pall', 'Mail', 'Filter', 'tip', 'VIDEO', 'TAPE', 'APPROVAL', 'SEP', '30', 'PERCY', 'F.', 'SMITH', '\"Presenter/', 'Girl', 'Rev\"', 'AT-M', 'B-T-64', ':60', '\"Pall', 'Mall', 'Filter', 'Tip\"', 'AT-P/', 'F-T-317', ':30', 'TAPE', 'WILL', 'FOLLOW', 'AS', 'SOON', 'AS', 'I', 'RECEIVE', 'IT', 'FROM', 'THE', 'TAPE', 'LIBRARY.', 'PLEASE', 'NOTIFY', 'THIS', 'DEPARTMENT', 'OF', 'ANY', 'CHANGES', 'IN', 'THE', 'CODE', 'NUMBER(S).', 'Final', 'approval', 'is,', 'of', 'course,', 'dependent', 'upon', 'time', 'and', 'placement', 'of', 'the', 'commercial(s\\uf703).', 'Film(s)', 'enclosed.', 'Sincerely,', 'American', 'Broadcasting', 'Company', 'Cynthia', 'Fates', 'C.B', 'Department', 'BROADCAST', 'STANDARDS', 'AND', 'PRACTICES', 'XER', '264/', 'REV', '5/', '68']\n",
      "\n",
      "Boxes: \n",
      "[[78, 247, 133, 261], [513, 243, 569, 254], [509, 201, 545, 215], [78, 352, 129, 369], [78, 300, 144, 314], [80, 409, 140, 424], [80, 465, 175, 479], [751, 384, 817, 401], [86, 779, 119, 792], [119, 779, 148, 793], [295, 61, 565, 105], [295, 61, 565, 105], [295, 61, 565, 105], [295, 61, 565, 105], [295, 61, 565, 105], [272, 113, 590, 147], [272, 113, 590, 147], [272, 113, 590, 147], [272, 113, 590, 147], [272, 113, 590, 147], [272, 113, 590, 147], [272, 113, 590, 147], [272, 113, 590, 147], [272, 113, 590, 147], [272, 113, 590, 147], [272, 113, 590, 147], [272, 113, 590, 147], [272, 113, 590, 147], [156, 236, 271, 254], [156, 236, 271, 254], [577, 190, 782, 210], [577, 190, 782, 210], [577, 190, 782, 210], [587, 232, 707, 253], [587, 232, 707, 253], [157, 289, 685, 308], [157, 289, 685, 308], [157, 289, 685, 308], [157, 289, 685, 308], [157, 289, 685, 308], [157, 289, 685, 308], [157, 289, 685, 308], [157, 289, 685, 308], [157, 346, 434, 366], [157, 346, 434, 366], [157, 346, 434, 366], [156, 395, 389, 416], [156, 395, 389, 416], [156, 395, 389, 416], [156, 395, 389, 416], [250, 457, 472, 475], [250, 457, 472, 475], [250, 457, 472, 475], [725, 419, 796, 441], [725, 419, 796, 441], [717, 455, 835, 472], [717, 455, 835, 472], [717, 455, 835, 472], [161, 490, 656, 524], [161, 490, 656, 524], [161, 490, 656, 524], [161, 490, 656, 524], [161, 490, 656, 524], [161, 490, 656, 524], [161, 490, 656, 524], [161, 490, 656, 524], [161, 490, 656, 524], [161, 490, 656, 524], [161, 490, 656, 524], [161, 490, 656, 524], [161, 490, 656, 524], [160, 545, 782, 580], [160, 545, 782, 580], [160, 545, 782, 580], [160, 545, 782, 580], [160, 545, 782, 580], [160, 545, 782, 580], [160, 545, 782, 580], [160, 545, 782, 580], [160, 545, 782, 580], [160, 545, 782, 580], [160, 545, 782, 580], [160, 545, 782, 580], [160, 545, 782, 580], [82, 673, 685, 693], [82, 673, 685, 693], [82, 673, 685, 693], [82, 673, 685, 693], [82, 673, 685, 693], [82, 673, 685, 693], [82, 673, 685, 693], [82, 673, 685, 693], [82, 673, 685, 693], [82, 673, 685, 693], [82, 673, 685, 693], [82, 698, 669, 721], [82, 698, 669, 721], [82, 698, 669, 721], [82, 698, 669, 721], [82, 698, 669, 721], [82, 698, 669, 721], [82, 698, 669, 721], [82, 698, 669, 721], [82, 698, 669, 721], [82, 698, 669, 721], [82, 698, 669, 721], [82, 698, 669, 721], [82, 698, 669, 721], [86, 747, 212, 761], [86, 747, 212, 761], [518, 754, 776, 870], [518, 754, 776, 870], [518, 754, 776, 870], [518, 754, 776, 870], [518, 754, 776, 870], [518, 754, 776, 870], [518, 754, 776, 870], [518, 754, 776, 870], [518, 754, 776, 870], [518, 754, 776, 870], [518, 754, 776, 870], [518, 754, 776, 870], [104, 873, 254, 886], [104, 873, 254, 886], [104, 873, 254, 886], [104, 873, 254, 886], [104, 873, 254, 886]]\n",
      "\n",
      "Tags: \n",
      "[3, 3, 3, 3, 3, 3, 3, 3, 3, 5, 1, 2, 2, 2, 2, 0, 0, 0, 0, 0, 0, 0, 0, 0, 0, 0, 0, 0, 5, 6, 5, 6, 6, 5, 6, 5, 6, 6, 6, 6, 6, 6, 6, 5, 6, 6, 5, 6, 6, 6, 5, 6, 6, 5, 6, 0, 0, 0, 5, 6, 6, 6, 6, 6, 6, 6, 6, 6, 6, 6, 6, 5, 6, 6, 6, 6, 6, 6, 6, 6, 6, 6, 6, 6, 3, 4, 4, 4, 4, 4, 4, 4, 4, 4, 4, 3, 4, 4, 4, 4, 4, 4, 4, 4, 4, 4, 4, 4, 3, 4, 0, 0, 0, 0, 0, 0, 0, 0, 0, 0, 0, 0, 0, 0, 0, 0, 0]\n"
     ]
    }
   ],
   "source": [
    "words, bboxes, tags = sample[\"tokens\"], sample[\"bboxes\"], sample[\"ner_tags\"]\n",
    "\n",
    "print(f\"Words: \\n{words}\")\n",
    "print(f\"\\nBoxes: \\n{bboxes}\")\n",
    "print(f\"\\nTags: \\n{tags}\")"
   ]
  },
  {
   "cell_type": "markdown",
   "metadata": {},
   "source": [
    "#### Define Basic Values/Constants"
   ]
  },
  {
   "cell_type": "code",
   "execution_count": 8,
   "metadata": {},
   "outputs": [],
   "source": [
    "MODEL_CKPT = \"microsoft/layoutlmv3-base\"\n",
    "DATASET_DESCRIPTION = \"FUNSD_dataset\"\n",
    "\n",
    "MODEL_NAME = f\"{MODEL_CKPT.split('/')[-1]}-fine_tuned-{DATASET_DESCRIPTION}\"\n",
    "LR = 1e-5\n",
    "\n",
    "BATCH_SIZE = 2\n",
    "REPORTS_TO = \"tensorboard\"\n",
    "\n",
    "MAX_STEPS = 2000\n",
    "STRATEGY = \"steps\"\n",
    "\n",
    "BEST_METRIC = \"f1\""
   ]
  },
  {
   "cell_type": "markdown",
   "metadata": {},
   "source": [
    "#### Define Processor"
   ]
  },
  {
   "cell_type": "code",
   "execution_count": 9,
   "metadata": {},
   "outputs": [],
   "source": [
    "processor = AutoProcessor.from_pretrained(MODEL_CKPT,\n",
    "                                          apply_ocr=False)"
   ]
  },
  {
   "cell_type": "markdown",
   "metadata": {},
   "source": [
    "#### Define Conversions Between String & Integer"
   ]
  },
  {
   "cell_type": "code",
   "execution_count": 10,
   "metadata": {},
   "outputs": [
    {
     "name": "stdout",
     "output_type": "stream",
     "text": [
      "Unique Labels:\n",
      "['O', 'B-HEADER', 'I-HEADER', 'B-QUESTION', 'I-QUESTION', 'B-ANSWER', 'I-ANSWER']\n",
      "Number of Labels:\n",
      "7\n",
      "id2label:\n",
      "{0: 'O', 1: 'B-HEADER', 2: 'I-HEADER', 3: 'B-QUESTION', 4: 'I-QUESTION', 5: 'B-ANSWER', 6: 'I-ANSWER'}\n",
      "label2id:\n",
      "{'O': 0, 'B-HEADER': 1, 'I-HEADER': 2, 'B-QUESTION': 3, 'I-QUESTION': 4, 'B-ANSWER': 5, 'I-ANSWER': 6}\n"
     ]
    }
   ],
   "source": [
    "features = data['train'].features\n",
    "col_names = data['train'].column_names\n",
    "image_col_name = \"image\"\n",
    "text_col_name = \"tokens\"\n",
    "bboxes_col_name = \"bboxes\"\n",
    "label_col_name = \"ner_tags\"\n",
    "\n",
    "def define_label_list(labels):\n",
    "    unique_labels = set()\n",
    "    for label in labels:\n",
    "        unique_labels = unique_labels | set(label)\n",
    "    label_list = list(unique_labels)\n",
    "    label_list.sort()\n",
    "    return label_list\n",
    "\n",
    "if isinstance(features[label_col_name].feature, ClassLabel):\n",
    "    label_list = features[label_col_name].feature.names\n",
    "    id2label = {k: v for k,v in enumerate(label_list)}\n",
    "    label2id = {v: k for k,v in enumerate(label_list)}\n",
    "else:\n",
    "    label_list = define_label_list(data['train'][label_col_name])\n",
    "    id2label = {k: v for k,v in enumerate(label_list)}\n",
    "    label2id = {v: k for k,v in enumerate(label_list)}\n",
    "\n",
    "NUM_OF_LABELS = len(label_list)\n",
    "\n",
    "print(f\"Unique Labels:\\n{label_list}\")\n",
    "print(f\"Number of Labels:\\n{NUM_OF_LABELS}\")\n",
    "print(f\"id2label:\\n{id2label}\")\n",
    "print(f\"label2id:\\n{label2id}\")"
   ]
  },
  {
   "cell_type": "markdown",
   "metadata": {},
   "source": [
    "#### Define Preprocessing Function"
   ]
  },
  {
   "cell_type": "code",
   "execution_count": 11,
   "metadata": {},
   "outputs": [],
   "source": [
    "def preprocess_dataset(samples):\n",
    "    images = samples[image_col_name]\n",
    "    words = samples[text_col_name]\n",
    "    bboxes = samples[bboxes_col_name]\n",
    "    word_labels = samples[label_col_name]\n",
    "    \n",
    "    encoding = processor(\n",
    "        images, \n",
    "        words, \n",
    "        boxes=bboxes, \n",
    "        word_labels=word_labels, \n",
    "        truncation=True, \n",
    "        padding=\"max_length\"\n",
    "        )\n",
    "    \n",
    "    return encoding"
   ]
  },
  {
   "cell_type": "markdown",
   "metadata": {},
   "source": [
    "#### Define Feature Format"
   ]
  },
  {
   "cell_type": "code",
   "execution_count": 12,
   "metadata": {},
   "outputs": [],
   "source": [
    "feature_format = Features({\n",
    "    'pixel_values': Array3D(dtype=\"float32\", shape=(3, 224, 224)),\n",
    "    'input_ids': Sequence(feature=Value(dtype='int64')),\n",
    "    'attention_mask': Sequence(Value(dtype='int64')),\n",
    "    'bbox': Array2D(dtype='int64', shape=(512, 4)),\n",
    "    'labels': Sequence(feature=Value(dtype='int64')),\n",
    "})"
   ]
  },
  {
   "cell_type": "markdown",
   "metadata": {},
   "source": [
    "#### Apply Preprocessing & Format to Both Training & Evaluation Datasets"
   ]
  },
  {
   "cell_type": "code",
   "execution_count": 13,
   "metadata": {},
   "outputs": [],
   "source": [
    "train_ds = data['train'].map(\n",
    "    preprocess_dataset,\n",
    "    batched=True,\n",
    "    remove_columns=col_names,\n",
    "    features=feature_format,\n",
    ")\n",
    "\n",
    "eval_ds = data[\"test\"].map(\n",
    "    preprocess_dataset,\n",
    "    batched=True,\n",
    "    remove_columns=col_names,\n",
    "    features=feature_format,\n",
    ")"
   ]
  },
  {
   "cell_type": "markdown",
   "metadata": {},
   "source": [
    "#### Show Dataset Features & Number of Samples"
   ]
  },
  {
   "cell_type": "code",
   "execution_count": 14,
   "metadata": {},
   "outputs": [
    {
     "data": {
      "text/plain": [
       "Dataset({\n",
       "    features: ['pixel_values', 'input_ids', 'attention_mask', 'bbox', 'labels'],\n",
       "    num_rows: 149\n",
       "})"
      ]
     },
     "execution_count": 14,
     "metadata": {},
     "output_type": "execute_result"
    }
   ],
   "source": [
    "train_ds"
   ]
  },
  {
   "cell_type": "markdown",
   "metadata": {},
   "source": [
    "#### Show Example (Both Before & After Preprocessing)"
   ]
  },
  {
   "cell_type": "code",
   "execution_count": 15,
   "metadata": {},
   "outputs": [
    {
     "data": {
      "text/plain": [
       "'<s> ( ) ( ) ( ( ) B( ) ( ) ( ) ( ) ( ) ( ) ( ) ( ) ( ) BROWN & WILLAMSON 1994 COLLECTION PROTOCOPYING VARIANCE FORM This form was placed before Bates ID 6708105266 AT THE TIME OF REPRODUCTION, THE FOLLOWING NOTATTONS WERE MADE: DOCUMENT COPIES ARE IN THE SAME SEQUENCE AS THEY APPEARED IN THE ORIGINAL. PAGE NUMBER(S) WERE MISSING IN THE ORIGINAL. ☑ ) POOR QUALITY ORIGINAL. faded OVERLAY ITEM COULD NOT BE REMOVED WITHOUT DAMAGE TO THE ORIGINAL. NG DOCUMENTS WERE FOUND WITHIN THE ORIGINAL: FILE FOLDER REDROPE EXPANDABLE FILE HANGING FILE ENVELOPE OTHER (SPECIFY) DOCUMENT COPIES WERE REPRODUCED IN COLOR PERMIT CORRECTION INTERPRETATION BATES NUMBER NOT USED. OTHER VARIANCE (EXPLAIN).</s><pad><pad><pad><pad><pad><pad><pad><pad><pad><pad><pad><pad><pad><pad><pad><pad><pad><pad><pad><pad><pad><pad><pad><pad><pad><pad><pad><pad><pad><pad><pad><pad><pad><pad><pad><pad><pad><pad><pad><pad><pad><pad><pad><pad><pad><pad><pad><pad><pad><pad><pad><pad><pad><pad><pad><pad><pad><pad><pad><pad><pad><pad><pad><pad><pad><pad><pad><pad><pad><pad><pad><pad><pad><pad><pad><pad><pad><pad><pad><pad><pad><pad><pad><pad><pad><pad><pad><pad><pad><pad><pad><pad><pad><pad><pad><pad><pad><pad><pad><pad><pad><pad><pad><pad><pad><pad><pad><pad><pad><pad><pad><pad><pad><pad><pad><pad><pad><pad><pad><pad><pad><pad><pad><pad><pad><pad><pad><pad><pad><pad><pad><pad><pad><pad><pad><pad><pad><pad><pad><pad><pad><pad><pad><pad><pad><pad><pad><pad><pad><pad><pad><pad><pad><pad><pad><pad><pad><pad><pad><pad><pad><pad><pad><pad><pad><pad><pad><pad><pad><pad><pad><pad><pad><pad><pad><pad><pad><pad><pad><pad><pad><pad><pad><pad><pad><pad><pad><pad><pad><pad><pad><pad><pad><pad><pad><pad><pad><pad><pad><pad><pad><pad><pad><pad><pad><pad><pad><pad><pad><pad><pad><pad><pad><pad><pad><pad><pad><pad><pad><pad><pad><pad><pad><pad><pad><pad><pad><pad><pad><pad><pad><pad><pad><pad><pad><pad><pad><pad><pad><pad><pad><pad><pad><pad><pad><pad><pad><pad><pad><pad><pad><pad><pad><pad><pad><pad><pad><pad><pad><pad><pad><pad><pad><pad><pad><pad><pad><pad><pad><pad><pad><pad><pad><pad><pad><pad><pad><pad><pad><pad>'"
      ]
     },
     "execution_count": 15,
     "metadata": {},
     "output_type": "execute_result"
    }
   ],
   "source": [
    "another_sample = train_ds[12]\n",
    "\n",
    "processor.tokenizer.decode(another_sample['input_ids'])"
   ]
  },
  {
   "cell_type": "markdown",
   "metadata": {},
   "source": [
    "#### Set Format to PyTorch"
   ]
  },
  {
   "cell_type": "code",
   "execution_count": 16,
   "metadata": {},
   "outputs": [],
   "source": [
    "train_ds.set_format(\"torch\")"
   ]
  },
  {
   "cell_type": "markdown",
   "metadata": {},
   "source": [
    "#### Check To Ensure Data Is Ready For Training"
   ]
  },
  {
   "cell_type": "code",
   "execution_count": 17,
   "metadata": {},
   "outputs": [
    {
     "data": {
      "text/plain": [
       "Dataset({\n",
       "    features: ['pixel_values', 'input_ids', 'attention_mask', 'bbox', 'labels'],\n",
       "    num_rows: 50\n",
       "})"
      ]
     },
     "execution_count": 17,
     "metadata": {},
     "output_type": "execute_result"
    }
   ],
   "source": [
    "eval_ds"
   ]
  },
  {
   "cell_type": "code",
   "execution_count": 18,
   "metadata": {},
   "outputs": [
    {
     "data": {
      "text/plain": [
       "'<s> 82573104 Date: To: From: Room: MESSAGE: COVINGTON & BURLING xc: RB5 12- 9- 99 RECEIVED DEC -9 1999 R B. SPELL 1201 Pennsylvania Avenue, N W. P. O. Box 7566 Washington D. C. 20044- 7566 (202) 662- 6000 Fax Numbers (202) 662 6291 or (202) 737 0528 Fax Operator (202) 662- 6280 THIS FACSIMILE TRANSMISSION INTENDED ONLY FOR THE ADDRESSEE SHOWN BELOW LIT MAY CONTAIN INFORMATION THAT IS PRIVILEGED CONFIDENTIAL OR OTHERWISE PROTECTED FROM DISCLOSURE ANY REVIEW DISSEMINATION OR USE OF THIS TRANSMISSION OR ITS CONTENTS BY PERSONS OTHER THAN THE ADDRESSEE IS STRICTLY PROHIBITED YOU HAVE RECEIVED THIS TRANSMISSION ERROR PLEASE NOTIFY US IMMEDIATELY AND MAIL THE ORIGINALI TO AT THE ABOVE ADDRESS December 9, 1999 Haney H. Bell, Esq. David H. Remes (202) 778 5212 - direct fax 803E // Pages (including cover)</s><pad><pad><pad><pad><pad><pad><pad><pad><pad><pad><pad><pad><pad><pad><pad><pad><pad><pad><pad><pad><pad><pad><pad><pad><pad><pad><pad><pad><pad><pad><pad><pad><pad><pad><pad><pad><pad><pad><pad><pad><pad><pad><pad><pad><pad><pad><pad><pad><pad><pad><pad><pad><pad><pad><pad><pad><pad><pad><pad><pad><pad><pad><pad><pad><pad><pad><pad><pad><pad><pad><pad><pad><pad><pad><pad><pad><pad><pad><pad><pad><pad><pad><pad><pad><pad><pad><pad><pad><pad><pad><pad><pad><pad><pad><pad><pad><pad><pad><pad><pad><pad><pad><pad><pad><pad><pad><pad><pad><pad><pad><pad><pad><pad><pad><pad><pad><pad><pad><pad><pad><pad><pad><pad><pad><pad><pad><pad><pad><pad><pad><pad><pad><pad><pad><pad><pad><pad><pad><pad><pad><pad><pad><pad><pad><pad><pad><pad><pad><pad><pad><pad><pad><pad><pad><pad><pad><pad><pad><pad><pad><pad><pad><pad><pad><pad><pad><pad><pad><pad><pad><pad><pad><pad><pad><pad><pad><pad><pad><pad><pad><pad><pad><pad><pad><pad><pad><pad><pad><pad><pad><pad><pad><pad><pad><pad><pad><pad><pad><pad><pad><pad><pad><pad><pad><pad><pad><pad><pad><pad><pad><pad><pad><pad><pad><pad><pad><pad><pad><pad><pad><pad><pad><pad><pad><pad><pad><pad><pad><pad><pad><pad><pad><pad><pad><pad><pad><pad><pad><pad><pad><pad><pad>'"
      ]
     },
     "execution_count": 18,
     "metadata": {},
     "output_type": "execute_result"
    }
   ],
   "source": [
    "processor.tokenizer.decode(eval_ds[12][\"input_ids\"])"
   ]
  },
  {
   "cell_type": "code",
   "execution_count": 19,
   "metadata": {},
   "outputs": [
    {
     "name": "stdout",
     "output_type": "stream",
     "text": [
      "<s> -100\n",
      " ( 0\n",
      " ) 0\n",
      " ( 0\n",
      " ) 0\n",
      " ( 0\n",
      " ( 0\n",
      " ) 0\n",
      " B 0\n",
      "( -100\n",
      " ) 0\n",
      " ( 0\n",
      " ) 0\n",
      " ( 0\n",
      " ) 0\n",
      " ( 0\n",
      " ) 0\n",
      " ( 0\n",
      " ) 0\n",
      " ( 0\n",
      " ) 0\n",
      " ( 0\n",
      " ) 0\n",
      " ( 0\n",
      " ) 0\n",
      " ( 0\n",
      " ) 0\n",
      " BR 1\n",
      "OWN -100\n",
      " & 2\n",
      " WILL 2\n",
      "AM -100\n",
      "SON -100\n",
      " 1994 2\n",
      " COL 2\n",
      "LECT -100\n",
      "ION -100\n",
      " PROT 2\n",
      "OC -100\n",
      "OP -100\n",
      "YING -100\n",
      " V 2\n",
      "AR -100\n",
      "IAN -100\n",
      "CE -100\n",
      " FORM 2\n",
      " This 3\n",
      " form 4\n",
      " was 4\n",
      " placed 4\n",
      " before 4\n",
      " Bates 4\n",
      " ID 4\n",
      " 6 5\n",
      "708 -100\n",
      "105 -100\n",
      "266 -100\n",
      " AT 3\n",
      " THE 4\n",
      " TIME 4\n",
      " OF 4\n",
      " RE 4\n",
      "PR -100\n",
      "ODUCT -100\n",
      "ION -100\n",
      ", -100\n",
      " THE 4\n",
      " FO 4\n",
      "LLOW -100\n",
      "ING -100\n",
      " NOT 4\n",
      "AT -100\n",
      "TON -100\n",
      "S -100\n",
      " W 4\n",
      "ERE -100\n",
      " M 4\n",
      "ADE -100\n",
      ": -100\n",
      " DOC 0\n",
      "UM -100\n",
      "ENT -100\n",
      " COP 0\n",
      "IES -100\n",
      " ARE 0\n",
      " IN 0\n",
      " THE 0\n",
      " S 0\n",
      "AME -100\n",
      " SE 0\n",
      "QU -100\n",
      "ENCE -100\n",
      " AS 0\n",
      " THEY 0\n",
      " AP 0\n",
      "PE -100\n",
      "AR -100\n",
      "ED -100\n",
      " IN 0\n",
      " THE 0\n",
      " ORIG 0\n",
      "INAL -100\n",
      ". -100\n",
      " PAGE 3\n",
      " NUM 4\n",
      "BER -100\n",
      "( -100\n",
      "S -100\n",
      ") -100\n",
      " W 4\n",
      "ERE -100\n",
      " MISS 4\n",
      "ING -100\n",
      " IN 4\n",
      " THE 4\n",
      " ORIG 4\n",
      "INAL -100\n",
      ". -100\n",
      " � 0\n",
      "� 0\n",
      " ) 0\n",
      " PO 0\n",
      "OR -100\n",
      " QU 0\n",
      "AL -100\n",
      "ITY -100\n",
      " ORIG 0\n",
      "INAL -100\n",
      ". -100\n",
      " faded 0\n",
      " OVER 0\n",
      "L -100\n",
      "AY -100\n",
      " IT 0\n",
      "EM -100\n",
      " C 0\n",
      "OULD -100\n",
      " NOT 0\n",
      " BE 0\n",
      " REM 0\n",
      "OV -100\n",
      "ED -100\n",
      " WITHOUT 0\n",
      " DAM 0\n",
      "AGE -100\n",
      " TO 0\n",
      " THE 0\n",
      " ORIG 0\n",
      "INAL -100\n",
      ". -100\n",
      " NG 3\n",
      " DOC 4\n",
      "UM -100\n",
      "ENTS -100\n",
      " W 4\n",
      "ERE -100\n",
      " F 4\n",
      "OUND -100\n",
      " WITH 4\n",
      "IN -100\n",
      " THE 4\n",
      " ORIG 4\n",
      "INAL -100\n",
      ": -100\n",
      " FILE 5\n",
      " F 6\n",
      "OL -100\n",
      "DER -100\n",
      " RED 5\n",
      "R -100\n",
      "OPE -100\n",
      " EXP 6\n",
      "AN -100\n",
      "DA -100\n",
      "BLE -100\n",
      " FILE 6\n",
      " H 5\n",
      "ANG -100\n",
      "ING -100\n",
      " FILE 6\n",
      " EN 5\n",
      "VEL -100\n",
      "OPE -100\n",
      " OTHER 5\n",
      " ( 6\n",
      "SPEC -100\n",
      "IF -100\n",
      "Y -100\n",
      ") -100\n",
      " DOC 0\n",
      "UM -100\n",
      "ENT -100\n",
      " COP 0\n",
      "IES -100\n",
      " W 0\n",
      "ERE -100\n",
      " RE 0\n",
      "PR -100\n",
      "OD -100\n",
      "UC -100\n",
      "ED -100\n",
      " IN 0\n",
      " COL 0\n",
      "OR -100\n",
      " PER 0\n",
      "MIT -100\n",
      " COR 0\n",
      "RECT -100\n",
      "ION -100\n",
      " INTER 0\n",
      "P -100\n",
      "RET -100\n",
      "ATION -100\n",
      " B 3\n",
      "ATES -100\n",
      " NUM 4\n",
      "BER -100\n",
      " NOT 4\n",
      " US 4\n",
      "ED -100\n",
      ". -100\n",
      " OTHER 0\n",
      " V 0\n",
      "AR -100\n",
      "IAN -100\n",
      "CE -100\n",
      " ( 0\n",
      "EX -100\n",
      "PL -100\n",
      "AIN -100\n",
      "). -100\n",
      "</s> -100\n",
      "<pad> -100\n",
      "<pad> -100\n",
      "<pad> -100\n",
      "<pad> -100\n",
      "<pad> -100\n",
      "<pad> -100\n",
      "<pad> -100\n",
      "<pad> -100\n",
      "<pad> -100\n",
      "<pad> -100\n",
      "<pad> -100\n",
      "<pad> -100\n",
      "<pad> -100\n",
      "<pad> -100\n",
      "<pad> -100\n",
      "<pad> -100\n",
      "<pad> -100\n",
      "<pad> -100\n",
      "<pad> -100\n",
      "<pad> -100\n",
      "<pad> -100\n",
      "<pad> -100\n",
      "<pad> -100\n",
      "<pad> -100\n",
      "<pad> -100\n",
      "<pad> -100\n",
      "<pad> -100\n",
      "<pad> -100\n",
      "<pad> -100\n",
      "<pad> -100\n",
      "<pad> -100\n",
      "<pad> -100\n",
      "<pad> -100\n",
      "<pad> -100\n",
      "<pad> -100\n",
      "<pad> -100\n",
      "<pad> -100\n",
      "<pad> -100\n",
      "<pad> -100\n",
      "<pad> -100\n",
      "<pad> -100\n",
      "<pad> -100\n",
      "<pad> -100\n",
      "<pad> -100\n",
      "<pad> -100\n",
      "<pad> -100\n",
      "<pad> -100\n",
      "<pad> -100\n",
      "<pad> -100\n",
      "<pad> -100\n",
      "<pad> -100\n",
      "<pad> -100\n",
      "<pad> -100\n",
      "<pad> -100\n",
      "<pad> -100\n",
      "<pad> -100\n",
      "<pad> -100\n",
      "<pad> -100\n",
      "<pad> -100\n",
      "<pad> -100\n",
      "<pad> -100\n",
      "<pad> -100\n",
      "<pad> -100\n",
      "<pad> -100\n",
      "<pad> -100\n",
      "<pad> -100\n",
      "<pad> -100\n",
      "<pad> -100\n",
      "<pad> -100\n",
      "<pad> -100\n",
      "<pad> -100\n",
      "<pad> -100\n",
      "<pad> -100\n",
      "<pad> -100\n",
      "<pad> -100\n",
      "<pad> -100\n",
      "<pad> -100\n",
      "<pad> -100\n",
      "<pad> -100\n",
      "<pad> -100\n",
      "<pad> -100\n",
      "<pad> -100\n",
      "<pad> -100\n",
      "<pad> -100\n",
      "<pad> -100\n",
      "<pad> -100\n",
      "<pad> -100\n",
      "<pad> -100\n",
      "<pad> -100\n",
      "<pad> -100\n",
      "<pad> -100\n",
      "<pad> -100\n",
      "<pad> -100\n",
      "<pad> -100\n",
      "<pad> -100\n",
      "<pad> -100\n",
      "<pad> -100\n",
      "<pad> -100\n",
      "<pad> -100\n",
      "<pad> -100\n",
      "<pad> -100\n",
      "<pad> -100\n",
      "<pad> -100\n",
      "<pad> -100\n",
      "<pad> -100\n",
      "<pad> -100\n",
      "<pad> -100\n",
      "<pad> -100\n",
      "<pad> -100\n",
      "<pad> -100\n",
      "<pad> -100\n",
      "<pad> -100\n",
      "<pad> -100\n",
      "<pad> -100\n",
      "<pad> -100\n",
      "<pad> -100\n",
      "<pad> -100\n",
      "<pad> -100\n",
      "<pad> -100\n",
      "<pad> -100\n",
      "<pad> -100\n",
      "<pad> -100\n",
      "<pad> -100\n",
      "<pad> -100\n",
      "<pad> -100\n",
      "<pad> -100\n",
      "<pad> -100\n",
      "<pad> -100\n",
      "<pad> -100\n",
      "<pad> -100\n",
      "<pad> -100\n",
      "<pad> -100\n",
      "<pad> -100\n",
      "<pad> -100\n",
      "<pad> -100\n",
      "<pad> -100\n",
      "<pad> -100\n",
      "<pad> -100\n",
      "<pad> -100\n",
      "<pad> -100\n",
      "<pad> -100\n",
      "<pad> -100\n",
      "<pad> -100\n",
      "<pad> -100\n",
      "<pad> -100\n",
      "<pad> -100\n",
      "<pad> -100\n",
      "<pad> -100\n",
      "<pad> -100\n",
      "<pad> -100\n",
      "<pad> -100\n",
      "<pad> -100\n",
      "<pad> -100\n",
      "<pad> -100\n",
      "<pad> -100\n",
      "<pad> -100\n",
      "<pad> -100\n",
      "<pad> -100\n",
      "<pad> -100\n",
      "<pad> -100\n",
      "<pad> -100\n",
      "<pad> -100\n",
      "<pad> -100\n",
      "<pad> -100\n",
      "<pad> -100\n",
      "<pad> -100\n",
      "<pad> -100\n",
      "<pad> -100\n",
      "<pad> -100\n",
      "<pad> -100\n",
      "<pad> -100\n",
      "<pad> -100\n",
      "<pad> -100\n",
      "<pad> -100\n",
      "<pad> -100\n",
      "<pad> -100\n",
      "<pad> -100\n",
      "<pad> -100\n",
      "<pad> -100\n",
      "<pad> -100\n",
      "<pad> -100\n",
      "<pad> -100\n",
      "<pad> -100\n",
      "<pad> -100\n",
      "<pad> -100\n",
      "<pad> -100\n",
      "<pad> -100\n",
      "<pad> -100\n",
      "<pad> -100\n",
      "<pad> -100\n",
      "<pad> -100\n",
      "<pad> -100\n",
      "<pad> -100\n",
      "<pad> -100\n",
      "<pad> -100\n",
      "<pad> -100\n",
      "<pad> -100\n",
      "<pad> -100\n",
      "<pad> -100\n",
      "<pad> -100\n",
      "<pad> -100\n",
      "<pad> -100\n",
      "<pad> -100\n",
      "<pad> -100\n",
      "<pad> -100\n",
      "<pad> -100\n",
      "<pad> -100\n",
      "<pad> -100\n",
      "<pad> -100\n",
      "<pad> -100\n",
      "<pad> -100\n",
      "<pad> -100\n",
      "<pad> -100\n",
      "<pad> -100\n",
      "<pad> -100\n",
      "<pad> -100\n",
      "<pad> -100\n",
      "<pad> -100\n",
      "<pad> -100\n",
      "<pad> -100\n",
      "<pad> -100\n",
      "<pad> -100\n",
      "<pad> -100\n",
      "<pad> -100\n",
      "<pad> -100\n",
      "<pad> -100\n",
      "<pad> -100\n",
      "<pad> -100\n",
      "<pad> -100\n",
      "<pad> -100\n",
      "<pad> -100\n",
      "<pad> -100\n",
      "<pad> -100\n",
      "<pad> -100\n",
      "<pad> -100\n",
      "<pad> -100\n",
      "<pad> -100\n",
      "<pad> -100\n",
      "<pad> -100\n",
      "<pad> -100\n",
      "<pad> -100\n",
      "<pad> -100\n",
      "<pad> -100\n",
      "<pad> -100\n",
      "<pad> -100\n",
      "<pad> -100\n",
      "<pad> -100\n",
      "<pad> -100\n",
      "<pad> -100\n",
      "<pad> -100\n",
      "<pad> -100\n",
      "<pad> -100\n",
      "<pad> -100\n",
      "<pad> -100\n",
      "<pad> -100\n",
      "<pad> -100\n",
      "<pad> -100\n",
      "<pad> -100\n",
      "<pad> -100\n",
      "<pad> -100\n",
      "<pad> -100\n",
      "<pad> -100\n",
      "<pad> -100\n",
      "<pad> -100\n",
      "<pad> -100\n",
      "<pad> -100\n",
      "<pad> -100\n",
      "<pad> -100\n",
      "<pad> -100\n",
      "<pad> -100\n",
      "<pad> -100\n",
      "<pad> -100\n",
      "<pad> -100\n",
      "<pad> -100\n",
      "<pad> -100\n",
      "<pad> -100\n",
      "<pad> -100\n",
      "<pad> -100\n",
      "<pad> -100\n",
      "<pad> -100\n"
     ]
    }
   ],
   "source": [
    "for id, label in zip(train_ds[12][\"input_ids\"], \n",
    "                     train_ds[12][\"labels\"]):\n",
    "    print(processor.tokenizer.decode([id]), \n",
    "          label.item())"
   ]
  },
  {
   "cell_type": "markdown",
   "metadata": {},
   "source": [
    "#### Define Metrics"
   ]
  },
  {
   "cell_type": "code",
   "execution_count": 20,
   "metadata": {},
   "outputs": [],
   "source": [
    "seqeval_metric = evaluate.load(\"seqeval\")\n",
    "\n",
    "return_entity_level_metrics = False\n",
    "\n",
    "def compute_metrics(p):\n",
    "    preds, labels = p\n",
    "    \n",
    "    preds = np.argmax(preds, \n",
    "                      axis=2)\n",
    "    \n",
    "    true_preds = [\n",
    "        [label_list[p] for (p, l) in zip(pred, label) if l != -100]\n",
    "        for pred, label in zip(preds, labels)\n",
    "    ]\n",
    "    \n",
    "    true_labels = [\n",
    "        [label_list[l] for (p, l) in zip(pred, label) if l != -100]\n",
    "        for pred, label in zip(preds, labels)\n",
    "    ]\n",
    "    \n",
    "    results = seqeval_metric.compute(predictions=true_preds,\n",
    "                                     references=true_labels)\n",
    "    \n",
    "    if return_entity_level_metrics:\n",
    "        final_results = {}\n",
    "        for key, value in results.items():\n",
    "            if isinstance(value, dict):\n",
    "                for n, v in value.items():\n",
    "                    final_results[f\"{key}_{n}\"] = v\n",
    "            else:\n",
    "                final_results[key] = value\n",
    "        return final_results\n",
    "    else:\n",
    "        return {\n",
    "            \"precision\": results[\"overall_precision\"],\n",
    "            \"recall\": results[\"overall_recall\"],\n",
    "            \"f1\": results[\"overall_f1\"],\n",
    "            \"accuracy\": results[\"overall_accuracy\"],\n",
    "        }"
   ]
  },
  {
   "cell_type": "markdown",
   "metadata": {},
   "source": [
    "#### Define Model"
   ]
  },
  {
   "cell_type": "code",
   "execution_count": 21,
   "metadata": {},
   "outputs": [
    {
     "name": "stderr",
     "output_type": "stream",
     "text": [
      "Some weights of LayoutLMv3ForTokenClassification were not initialized from the model checkpoint at microsoft/layoutlmv3-base and are newly initialized: ['classifier.bias', 'classifier.weight']\n",
      "You should probably TRAIN this model on a down-stream task to be able to use it for predictions and inference.\n"
     ]
    }
   ],
   "source": [
    "model = LayoutLMv3ForTokenClassification.from_pretrained(\n",
    "    MODEL_CKPT,\n",
    "    id2label=id2label,\n",
    "    label2id=label2id\n",
    ")"
   ]
  },
  {
   "cell_type": "markdown",
   "metadata": {},
   "source": [
    "#### Define TrainingArguments"
   ]
  },
  {
   "cell_type": "code",
   "execution_count": 22,
   "metadata": {},
   "outputs": [],
   "source": [
    "args = TrainingArguments(\n",
    "    MODEL_NAME,\n",
    "    max_steps=MAX_STEPS,\n",
    "    per_device_train_batch_size=BATCH_SIZE,\n",
    "    per_device_eval_batch_size=BATCH_SIZE,\n",
    "    learning_rate=LR,\n",
    "    evaluation_strategy=STRATEGY,\n",
    "    eval_steps=100,\n",
    "    logging_strategy=STRATEGY,\n",
    "    logging_steps=25,\n",
    "    save_strategy=STRATEGY,\n",
    "    save_steps=100,\n",
    "    logging_first_step=True,\n",
    "    load_best_model_at_end=True,\n",
    "    metric_for_best_model=BEST_METRIC,\n",
    "    hub_private_repo=True,\n",
    "    push_to_hub=True\n",
    ")"
   ]
  },
  {
   "cell_type": "markdown",
   "metadata": {},
   "source": [
    "#### Define Trainer"
   ]
  },
  {
   "cell_type": "code",
   "execution_count": 23,
   "metadata": {},
   "outputs": [],
   "source": [
    "trainer = Trainer(\n",
    "    model=model,\n",
    "    args=args,\n",
    "    train_dataset=train_ds,\n",
    "    eval_dataset=eval_ds,\n",
    "    tokenizer=processor,\n",
    "    data_collator=default_data_collator,\n",
    "    compute_metrics=compute_metrics,\n",
    ")"
   ]
  },
  {
   "cell_type": "markdown",
   "metadata": {},
   "source": [
    "#### Train Model"
   ]
  },
  {
   "cell_type": "code",
   "execution_count": 24,
   "metadata": {},
   "outputs": [
    {
     "data": {
      "application/vnd.jupyter.widget-view+json": {
       "model_id": "67d31e41bee8407797909713b7f24b7d",
       "version_major": 2,
       "version_minor": 0
      },
      "text/plain": [
       "  0%|          | 0/2000 [00:00<?, ?it/s]"
      ]
     },
     "metadata": {},
     "output_type": "display_data"
    },
    {
     "name": "stderr",
     "output_type": "stream",
     "text": [
      "/Users/briandunn/Desktop/python_venvs/text_sum/lib/python3.9/site-packages/transformers/modeling_utils.py:909: FutureWarning: The `device` argument is deprecated and will be removed in v5 of Transformers.\n",
      "  warnings.warn(\n"
     ]
    },
    {
     "name": "stdout",
     "output_type": "stream",
     "text": [
      "{'loss': 0.3161, 'learning_rate': 9.995000000000002e-06, 'epoch': 0.01}\n",
      "{'loss': 0.4774, 'learning_rate': 9.875000000000001e-06, 'epoch': 0.33}\n",
      "{'loss': 0.4193, 'learning_rate': 9.75e-06, 'epoch': 0.67}\n",
      "{'loss': 0.288, 'learning_rate': 9.625e-06, 'epoch': 1.0}\n",
      "{'loss': 0.2149, 'learning_rate': 9.5e-06, 'epoch': 1.33}\n"
     ]
    },
    {
     "data": {
      "application/vnd.jupyter.widget-view+json": {
       "model_id": "afcd669ee0694160a8d0d20e2cc04141",
       "version_major": 2,
       "version_minor": 0
      },
      "text/plain": [
       "  0%|          | 0/25 [00:00<?, ?it/s]"
      ]
     },
     "metadata": {},
     "output_type": "display_data"
    },
    {
     "name": "stdout",
     "output_type": "stream",
     "text": [
      "{'eval_loss': 0.24023552238941193, 'eval_precision': 0.7469498418436512, 'eval_recall': 0.8211624441132638, 'eval_f1': 0.7823000473260767, 'eval_accuracy': 0.7758231308688934, 'eval_runtime': 19.0647, 'eval_samples_per_second': 2.623, 'eval_steps_per_second': 1.311, 'epoch': 1.33}\n"
     ]
    },
    {
     "name": "stderr",
     "output_type": "stream",
     "text": [
      "/Users/briandunn/Desktop/python_venvs/text_sum/lib/python3.9/site-packages/transformers/modeling_utils.py:909: FutureWarning: The `device` argument is deprecated and will be removed in v5 of Transformers.\n",
      "  warnings.warn(\n"
     ]
    },
    {
     "name": "stdout",
     "output_type": "stream",
     "text": [
      "{'loss': 0.1748, 'learning_rate': 9.375000000000001e-06, 'epoch': 1.67}\n",
      "{'loss': 0.2068, 'learning_rate': 9.250000000000001e-06, 'epoch': 2.0}\n",
      "{'loss': 0.1391, 'learning_rate': 9.125e-06, 'epoch': 2.33}\n",
      "{'loss': 0.1466, 'learning_rate': 9e-06, 'epoch': 2.67}\n"
     ]
    },
    {
     "data": {
      "application/vnd.jupyter.widget-view+json": {
       "model_id": "1177da71dc2843d88050c813bafc287c",
       "version_major": 2,
       "version_minor": 0
      },
      "text/plain": [
       "  0%|          | 0/25 [00:00<?, ?it/s]"
      ]
     },
     "metadata": {},
     "output_type": "display_data"
    },
    {
     "name": "stdout",
     "output_type": "stream",
     "text": [
      "{'eval_loss': 0.18694068491458893, 'eval_precision': 0.8160550458715596, 'eval_recall': 0.8837555886736215, 'eval_f1': 0.8485571190078703, 'eval_accuracy': 0.827291097111613, 'eval_runtime': 18.9358, 'eval_samples_per_second': 2.64, 'eval_steps_per_second': 1.32, 'epoch': 2.67}\n"
     ]
    },
    {
     "name": "stderr",
     "output_type": "stream",
     "text": [
      "/Users/briandunn/Desktop/python_venvs/text_sum/lib/python3.9/site-packages/transformers/modeling_utils.py:909: FutureWarning: The `device` argument is deprecated and will be removed in v5 of Transformers.\n",
      "  warnings.warn(\n"
     ]
    },
    {
     "name": "stdout",
     "output_type": "stream",
     "text": [
      "{'loss': 0.144, 'learning_rate': 8.875e-06, 'epoch': 3.0}\n",
      "{'loss': 0.1194, 'learning_rate': 8.750000000000001e-06, 'epoch': 3.33}\n",
      "{'loss': 0.0955, 'learning_rate': 8.625000000000001e-06, 'epoch': 3.67}\n",
      "{'loss': 0.1122, 'learning_rate': 8.5e-06, 'epoch': 4.0}\n"
     ]
    },
    {
     "data": {
      "application/vnd.jupyter.widget-view+json": {
       "model_id": "79625bd847534487b8698ff3a28bda9c",
       "version_major": 2,
       "version_minor": 0
      },
      "text/plain": [
       "  0%|          | 0/25 [00:00<?, ?it/s]"
      ]
     },
     "metadata": {},
     "output_type": "display_data"
    },
    {
     "name": "stdout",
     "output_type": "stream",
     "text": [
      "{'eval_loss': 0.190227210521698, 'eval_precision': 0.8538425271098539, 'eval_recall': 0.899652260307998, 'eval_f1': 0.8761490082244799, 'eval_accuracy': 0.8315701889932248, 'eval_runtime': 18.9972, 'eval_samples_per_second': 2.632, 'eval_steps_per_second': 1.316, 'epoch': 4.0}\n"
     ]
    },
    {
     "name": "stderr",
     "output_type": "stream",
     "text": [
      "/Users/briandunn/Desktop/python_venvs/text_sum/lib/python3.9/site-packages/transformers/modeling_utils.py:909: FutureWarning: The `device` argument is deprecated and will be removed in v5 of Transformers.\n",
      "  warnings.warn(\n"
     ]
    },
    {
     "name": "stdout",
     "output_type": "stream",
     "text": [
      "{'loss': 0.0824, 'learning_rate': 8.375e-06, 'epoch': 4.33}\n",
      "{'loss': 0.1132, 'learning_rate': 8.25e-06, 'epoch': 4.67}\n",
      "{'loss': 0.0705, 'learning_rate': 8.125000000000001e-06, 'epoch': 5.0}\n",
      "{'loss': 0.0757, 'learning_rate': 8.000000000000001e-06, 'epoch': 5.33}\n"
     ]
    },
    {
     "data": {
      "application/vnd.jupyter.widget-view+json": {
       "model_id": "87fff354b363468db1ac98cc4b33786d",
       "version_major": 2,
       "version_minor": 0
      },
      "text/plain": [
       "  0%|          | 0/25 [00:00<?, ?it/s]"
      ]
     },
     "metadata": {},
     "output_type": "display_data"
    },
    {
     "name": "stdout",
     "output_type": "stream",
     "text": [
      "{'eval_loss': 0.18571239709854126, 'eval_precision': 0.8354253835425384, 'eval_recall': 0.8926974664679582, 'eval_f1': 0.8631123919308358, 'eval_accuracy': 0.8348983715678118, 'eval_runtime': 18.9124, 'eval_samples_per_second': 2.644, 'eval_steps_per_second': 1.322, 'epoch': 5.33}\n"
     ]
    },
    {
     "name": "stderr",
     "output_type": "stream",
     "text": [
      "/Users/briandunn/Desktop/python_venvs/text_sum/lib/python3.9/site-packages/transformers/modeling_utils.py:909: FutureWarning: The `device` argument is deprecated and will be removed in v5 of Transformers.\n",
      "  warnings.warn(\n"
     ]
    },
    {
     "name": "stdout",
     "output_type": "stream",
     "text": [
      "{'loss': 0.0711, 'learning_rate': 7.875e-06, 'epoch': 5.67}\n",
      "{'loss': 0.0667, 'learning_rate': 7.75e-06, 'epoch': 6.0}\n",
      "{'loss': 0.0734, 'learning_rate': 7.625e-06, 'epoch': 6.33}\n",
      "{'loss': 0.0427, 'learning_rate': 7.500000000000001e-06, 'epoch': 6.67}\n"
     ]
    },
    {
     "data": {
      "application/vnd.jupyter.widget-view+json": {
       "model_id": "7ef649104a2f4bf89acddeea009c6d2a",
       "version_major": 2,
       "version_minor": 0
      },
      "text/plain": [
       "  0%|          | 0/25 [00:00<?, ?it/s]"
      ]
     },
     "metadata": {},
     "output_type": "display_data"
    },
    {
     "name": "stdout",
     "output_type": "stream",
     "text": [
      "{'eval_loss': 0.20910972356796265, 'eval_precision': 0.8792341678939617, 'eval_recall': 0.8897168405365127, 'eval_f1': 0.8844444444444444, 'eval_accuracy': 0.8446451919648164, 'eval_runtime': 18.8676, 'eval_samples_per_second': 2.65, 'eval_steps_per_second': 1.325, 'epoch': 6.67}\n"
     ]
    },
    {
     "name": "stderr",
     "output_type": "stream",
     "text": [
      "/Users/briandunn/Desktop/python_venvs/text_sum/lib/python3.9/site-packages/transformers/modeling_utils.py:909: FutureWarning: The `device` argument is deprecated and will be removed in v5 of Transformers.\n",
      "  warnings.warn(\n"
     ]
    },
    {
     "name": "stdout",
     "output_type": "stream",
     "text": [
      "{'loss': 0.0587, 'learning_rate': 7.375000000000001e-06, 'epoch': 7.0}\n",
      "{'loss': 0.0479, 'learning_rate': 7.25e-06, 'epoch': 7.33}\n",
      "{'loss': 0.0484, 'learning_rate': 7.125e-06, 'epoch': 7.67}\n",
      "{'loss': 0.0495, 'learning_rate': 7e-06, 'epoch': 8.0}\n"
     ]
    },
    {
     "data": {
      "application/vnd.jupyter.widget-view+json": {
       "model_id": "7a12264201634245995f15c33f9f1a98",
       "version_major": 2,
       "version_minor": 0
      },
      "text/plain": [
       "  0%|          | 0/25 [00:00<?, ?it/s]"
      ]
     },
     "metadata": {},
     "output_type": "display_data"
    },
    {
     "name": "stdout",
     "output_type": "stream",
     "text": [
      "{'eval_loss': 0.22346988320350647, 'eval_precision': 0.8825242718446602, 'eval_recall': 0.9031296572280179, 'eval_f1': 0.8927080775840904, 'eval_accuracy': 0.8370379175086177, 'eval_runtime': 19.0222, 'eval_samples_per_second': 2.629, 'eval_steps_per_second': 1.314, 'epoch': 8.0}\n"
     ]
    },
    {
     "name": "stderr",
     "output_type": "stream",
     "text": [
      "/Users/briandunn/Desktop/python_venvs/text_sum/lib/python3.9/site-packages/transformers/modeling_utils.py:909: FutureWarning: The `device` argument is deprecated and will be removed in v5 of Transformers.\n",
      "  warnings.warn(\n"
     ]
    },
    {
     "name": "stdout",
     "output_type": "stream",
     "text": [
      "{'loss': 0.0416, 'learning_rate': 6.875e-06, 'epoch': 8.33}\n",
      "{'loss': 0.0342, 'learning_rate': 6.750000000000001e-06, 'epoch': 8.67}\n",
      "{'loss': 0.0615, 'learning_rate': 6.625e-06, 'epoch': 9.0}\n",
      "{'loss': 0.0369, 'learning_rate': 6.5000000000000004e-06, 'epoch': 9.33}\n"
     ]
    },
    {
     "data": {
      "application/vnd.jupyter.widget-view+json": {
       "model_id": "ddaf1ee2d6474e5ab878d45f2d63ac9c",
       "version_major": 2,
       "version_minor": 0
      },
      "text/plain": [
       "  0%|          | 0/25 [00:00<?, ?it/s]"
      ]
     },
     "metadata": {},
     "output_type": "display_data"
    },
    {
     "name": "stdout",
     "output_type": "stream",
     "text": [
      "{'eval_loss': 0.25323349237442017, 'eval_precision': 0.8825503355704698, 'eval_recall': 0.914555389965226, 'eval_f1': 0.8982678702122469, 'eval_accuracy': 0.8348983715678118, 'eval_runtime': 18.9516, 'eval_samples_per_second': 2.638, 'eval_steps_per_second': 1.319, 'epoch': 9.33}\n"
     ]
    },
    {
     "name": "stderr",
     "output_type": "stream",
     "text": [
      "/Users/briandunn/Desktop/python_venvs/text_sum/lib/python3.9/site-packages/transformers/modeling_utils.py:909: FutureWarning: The `device` argument is deprecated and will be removed in v5 of Transformers.\n",
      "  warnings.warn(\n"
     ]
    },
    {
     "name": "stdout",
     "output_type": "stream",
     "text": [
      "{'loss': 0.0279, 'learning_rate': 6.375e-06, 'epoch': 9.67}\n",
      "{'loss': 0.0427, 'learning_rate': 6.25e-06, 'epoch': 10.0}\n",
      "{'loss': 0.0266, 'learning_rate': 6.125000000000001e-06, 'epoch': 10.33}\n",
      "{'loss': 0.0329, 'learning_rate': 6e-06, 'epoch': 10.67}\n"
     ]
    },
    {
     "data": {
      "application/vnd.jupyter.widget-view+json": {
       "model_id": "e98d7f2fcbba44e4ad47e3822e287b4c",
       "version_major": 2,
       "version_minor": 0
      },
      "text/plain": [
       "  0%|          | 0/25 [00:00<?, ?it/s]"
      ]
     },
     "metadata": {},
     "output_type": "display_data"
    },
    {
     "name": "stdout",
     "output_type": "stream",
     "text": [
      "{'eval_loss': 0.2575645446777344, 'eval_precision': 0.8829268292682927, 'eval_recall': 0.8991554893194238, 'eval_f1': 0.8909672655673148, 'eval_accuracy': 0.8473790562225127, 'eval_runtime': 18.8965, 'eval_samples_per_second': 2.646, 'eval_steps_per_second': 1.323, 'epoch': 10.67}\n"
     ]
    },
    {
     "name": "stderr",
     "output_type": "stream",
     "text": [
      "/Users/briandunn/Desktop/python_venvs/text_sum/lib/python3.9/site-packages/transformers/modeling_utils.py:909: FutureWarning: The `device` argument is deprecated and will be removed in v5 of Transformers.\n",
      "  warnings.warn(\n"
     ]
    },
    {
     "name": "stdout",
     "output_type": "stream",
     "text": [
      "{'loss': 0.0362, 'learning_rate': 5.8750000000000005e-06, 'epoch': 11.0}\n",
      "{'loss': 0.0246, 'learning_rate': 5.75e-06, 'epoch': 11.33}\n",
      "{'loss': 0.0243, 'learning_rate': 5.625e-06, 'epoch': 11.67}\n",
      "{'loss': 0.0229, 'learning_rate': 5.500000000000001e-06, 'epoch': 12.0}\n"
     ]
    },
    {
     "data": {
      "application/vnd.jupyter.widget-view+json": {
       "model_id": "4ffbee92bb29480481c70803a97501ba",
       "version_major": 2,
       "version_minor": 0
      },
      "text/plain": [
       "  0%|          | 0/25 [00:00<?, ?it/s]"
      ]
     },
     "metadata": {},
     "output_type": "display_data"
    },
    {
     "name": "stdout",
     "output_type": "stream",
     "text": [
      "{'eval_loss': 0.25785550475120544, 'eval_precision': 0.8827281648675172, 'eval_recall': 0.8936910084451068, 'eval_f1': 0.8881757590718341, 'eval_accuracy': 0.8442886009746821, 'eval_runtime': 18.9059, 'eval_samples_per_second': 2.645, 'eval_steps_per_second': 1.322, 'epoch': 12.0}\n"
     ]
    },
    {
     "name": "stderr",
     "output_type": "stream",
     "text": [
      "/Users/briandunn/Desktop/python_venvs/text_sum/lib/python3.9/site-packages/transformers/modeling_utils.py:909: FutureWarning: The `device` argument is deprecated and will be removed in v5 of Transformers.\n",
      "  warnings.warn(\n"
     ]
    },
    {
     "name": "stdout",
     "output_type": "stream",
     "text": [
      "{'loss': 0.0288, 'learning_rate': 5.375e-06, 'epoch': 12.33}\n",
      "{'loss': 0.0198, 'learning_rate': 5.2500000000000006e-06, 'epoch': 12.67}\n",
      "{'loss': 0.0184, 'learning_rate': 5.125e-06, 'epoch': 13.0}\n",
      "{'loss': 0.0219, 'learning_rate': 5e-06, 'epoch': 13.33}\n"
     ]
    },
    {
     "data": {
      "application/vnd.jupyter.widget-view+json": {
       "model_id": "42653797032c48a1a796854229870304",
       "version_major": 2,
       "version_minor": 0
      },
      "text/plain": [
       "  0%|          | 0/25 [00:00<?, ?it/s]"
      ]
     },
     "metadata": {},
     "output_type": "display_data"
    },
    {
     "name": "stdout",
     "output_type": "stream",
     "text": [
      "{'eval_loss': 0.2710016965866089, 'eval_precision': 0.8709677419354839, 'eval_recall': 0.8986587183308494, 'eval_f1': 0.8845965770171149, 'eval_accuracy': 0.8346606442410555, 'eval_runtime': 18.888, 'eval_samples_per_second': 2.647, 'eval_steps_per_second': 1.324, 'epoch': 13.33}\n"
     ]
    },
    {
     "name": "stderr",
     "output_type": "stream",
     "text": [
      "/Users/briandunn/Desktop/python_venvs/text_sum/lib/python3.9/site-packages/transformers/modeling_utils.py:909: FutureWarning: The `device` argument is deprecated and will be removed in v5 of Transformers.\n",
      "  warnings.warn(\n"
     ]
    },
    {
     "name": "stdout",
     "output_type": "stream",
     "text": [
      "{'loss': 0.0155, 'learning_rate': 4.875e-06, 'epoch': 13.67}\n",
      "{'loss': 0.023, 'learning_rate': 4.75e-06, 'epoch': 14.0}\n",
      "{'loss': 0.013, 'learning_rate': 4.625000000000001e-06, 'epoch': 14.33}\n",
      "{'loss': 0.0191, 'learning_rate': 4.5e-06, 'epoch': 14.67}\n"
     ]
    },
    {
     "data": {
      "application/vnd.jupyter.widget-view+json": {
       "model_id": "1a9351f081684cabbea96ca63cae11a7",
       "version_major": 2,
       "version_minor": 0
      },
      "text/plain": [
       "  0%|          | 0/25 [00:00<?, ?it/s]"
      ]
     },
     "metadata": {},
     "output_type": "display_data"
    },
    {
     "name": "stdout",
     "output_type": "stream",
     "text": [
      "{'eval_loss': 0.25823983550071716, 'eval_precision': 0.8888888888888888, 'eval_recall': 0.9061102831594635, 'eval_f1': 0.8974169741697418, 'eval_accuracy': 0.845358373945085, 'eval_runtime': 18.8546, 'eval_samples_per_second': 2.652, 'eval_steps_per_second': 1.326, 'epoch': 14.67}\n"
     ]
    },
    {
     "name": "stderr",
     "output_type": "stream",
     "text": [
      "/Users/briandunn/Desktop/python_venvs/text_sum/lib/python3.9/site-packages/transformers/modeling_utils.py:909: FutureWarning: The `device` argument is deprecated and will be removed in v5 of Transformers.\n",
      "  warnings.warn(\n"
     ]
    },
    {
     "name": "stdout",
     "output_type": "stream",
     "text": [
      "{'loss': 0.0208, 'learning_rate': 4.3750000000000005e-06, 'epoch': 15.0}\n",
      "{'loss': 0.0109, 'learning_rate': 4.25e-06, 'epoch': 15.33}\n",
      "{'loss': 0.0148, 'learning_rate': 4.125e-06, 'epoch': 15.67}\n",
      "{'loss': 0.0179, 'learning_rate': 4.000000000000001e-06, 'epoch': 16.0}\n"
     ]
    },
    {
     "data": {
      "application/vnd.jupyter.widget-view+json": {
       "model_id": "0a5ac370e2744c819ed76b67b4495dd1",
       "version_major": 2,
       "version_minor": 0
      },
      "text/plain": [
       "  0%|          | 0/25 [00:00<?, ?it/s]"
      ]
     },
     "metadata": {},
     "output_type": "display_data"
    },
    {
     "name": "stdout",
     "output_type": "stream",
     "text": [
      "{'eval_loss': 0.2646341919898987, 'eval_precision': 0.886986301369863, 'eval_recall': 0.9006458022851466, 'eval_f1': 0.8937638649248213, 'eval_accuracy': 0.8356115535480804, 'eval_runtime': 18.9126, 'eval_samples_per_second': 2.644, 'eval_steps_per_second': 1.322, 'epoch': 16.0}\n"
     ]
    },
    {
     "name": "stderr",
     "output_type": "stream",
     "text": [
      "/Users/briandunn/Desktop/python_venvs/text_sum/lib/python3.9/site-packages/transformers/modeling_utils.py:909: FutureWarning: The `device` argument is deprecated and will be removed in v5 of Transformers.\n",
      "  warnings.warn(\n"
     ]
    },
    {
     "name": "stdout",
     "output_type": "stream",
     "text": [
      "{'loss': 0.0131, 'learning_rate': 3.875e-06, 'epoch': 16.33}\n",
      "{'loss': 0.0108, 'learning_rate': 3.7500000000000005e-06, 'epoch': 16.67}\n",
      "{'loss': 0.0197, 'learning_rate': 3.625e-06, 'epoch': 17.0}\n",
      "{'loss': 0.0135, 'learning_rate': 3.5e-06, 'epoch': 17.33}\n"
     ]
    },
    {
     "data": {
      "application/vnd.jupyter.widget-view+json": {
       "model_id": "5cad0c8397244ed28b704a8a9e30ac9e",
       "version_major": 2,
       "version_minor": 0
      },
      "text/plain": [
       "  0%|          | 0/25 [00:00<?, ?it/s]"
      ]
     },
     "metadata": {},
     "output_type": "display_data"
    },
    {
     "name": "stdout",
     "output_type": "stream",
     "text": [
      "{'eval_loss': 0.27982670068740845, 'eval_precision': 0.8949152542372881, 'eval_recall': 0.9180327868852459, 'eval_f1': 0.9063266307013242, 'eval_accuracy': 0.8511826934506121, 'eval_runtime': 18.7335, 'eval_samples_per_second': 2.669, 'eval_steps_per_second': 1.335, 'epoch': 17.33}\n"
     ]
    },
    {
     "name": "stderr",
     "output_type": "stream",
     "text": [
      "/Users/briandunn/Desktop/python_venvs/text_sum/lib/python3.9/site-packages/transformers/modeling_utils.py:909: FutureWarning: The `device` argument is deprecated and will be removed in v5 of Transformers.\n",
      "  warnings.warn(\n"
     ]
    },
    {
     "name": "stdout",
     "output_type": "stream",
     "text": [
      "{'loss': 0.0091, 'learning_rate': 3.3750000000000003e-06, 'epoch': 17.67}\n",
      "{'loss': 0.0148, 'learning_rate': 3.2500000000000002e-06, 'epoch': 18.0}\n",
      "{'loss': 0.0115, 'learning_rate': 3.125e-06, 'epoch': 18.33}\n",
      "{'loss': 0.007, 'learning_rate': 3e-06, 'epoch': 18.67}\n"
     ]
    },
    {
     "data": {
      "application/vnd.jupyter.widget-view+json": {
       "model_id": "948a356c15a6438f9389bf7f2c9ca8dd",
       "version_major": 2,
       "version_minor": 0
      },
      "text/plain": [
       "  0%|          | 0/25 [00:00<?, ?it/s]"
      ]
     },
     "metadata": {},
     "output_type": "display_data"
    },
    {
     "name": "stdout",
     "output_type": "stream",
     "text": [
      "{'eval_loss': 0.29441899061203003, 'eval_precision': 0.8988212180746562, 'eval_recall': 0.9090909090909091, 'eval_f1': 0.9039268955297605, 'eval_accuracy': 0.845477237608463, 'eval_runtime': 19.1628, 'eval_samples_per_second': 2.609, 'eval_steps_per_second': 1.305, 'epoch': 18.67}\n"
     ]
    },
    {
     "name": "stderr",
     "output_type": "stream",
     "text": [
      "/Users/briandunn/Desktop/python_venvs/text_sum/lib/python3.9/site-packages/transformers/modeling_utils.py:909: FutureWarning: The `device` argument is deprecated and will be removed in v5 of Transformers.\n",
      "  warnings.warn(\n"
     ]
    },
    {
     "name": "stdout",
     "output_type": "stream",
     "text": [
      "{'loss': 0.0168, 'learning_rate': 2.875e-06, 'epoch': 19.0}\n",
      "{'loss': 0.0153, 'learning_rate': 2.7500000000000004e-06, 'epoch': 19.33}\n",
      "{'loss': 0.0071, 'learning_rate': 2.6250000000000003e-06, 'epoch': 19.67}\n",
      "{'loss': 0.0064, 'learning_rate': 2.5e-06, 'epoch': 20.0}\n"
     ]
    },
    {
     "data": {
      "application/vnd.jupyter.widget-view+json": {
       "model_id": "847163576e464ab0a9c7f23628e269a7",
       "version_major": 2,
       "version_minor": 0
      },
      "text/plain": [
       "  0%|          | 0/25 [00:00<?, ?it/s]"
      ]
     },
     "metadata": {},
     "output_type": "display_data"
    },
    {
     "name": "stdout",
     "output_type": "stream",
     "text": [
      "{'eval_loss': 0.28219303488731384, 'eval_precision': 0.8937836514929026, 'eval_recall': 0.907103825136612, 'eval_f1': 0.9003944773175543, 'eval_accuracy': 0.8452395102817069, 'eval_runtime': 19.2633, 'eval_samples_per_second': 2.596, 'eval_steps_per_second': 1.298, 'epoch': 20.0}\n"
     ]
    },
    {
     "name": "stderr",
     "output_type": "stream",
     "text": [
      "/Users/briandunn/Desktop/python_venvs/text_sum/lib/python3.9/site-packages/transformers/modeling_utils.py:909: FutureWarning: The `device` argument is deprecated and will be removed in v5 of Transformers.\n",
      "  warnings.warn(\n"
     ]
    },
    {
     "name": "stdout",
     "output_type": "stream",
     "text": [
      "{'loss': 0.0068, 'learning_rate': 2.375e-06, 'epoch': 20.33}\n",
      "{'loss': 0.0091, 'learning_rate': 2.25e-06, 'epoch': 20.67}\n",
      "{'loss': 0.0093, 'learning_rate': 2.125e-06, 'epoch': 21.0}\n",
      "{'loss': 0.0089, 'learning_rate': 2.0000000000000003e-06, 'epoch': 21.33}\n"
     ]
    },
    {
     "data": {
      "application/vnd.jupyter.widget-view+json": {
       "model_id": "89051339e877421c8c47d0a64e911c09",
       "version_major": 2,
       "version_minor": 0
      },
      "text/plain": [
       "  0%|          | 0/25 [00:00<?, ?it/s]"
      ]
     },
     "metadata": {},
     "output_type": "display_data"
    },
    {
     "name": "stdout",
     "output_type": "stream",
     "text": [
      "{'eval_loss': 0.30030521750450134, 'eval_precision': 0.8940946803318692, 'eval_recall': 0.9100844510680576, 'eval_f1': 0.9020187099950762, 'eval_accuracy': 0.8484488291929158, 'eval_runtime': 19.1553, 'eval_samples_per_second': 2.61, 'eval_steps_per_second': 1.305, 'epoch': 21.33}\n"
     ]
    },
    {
     "name": "stderr",
     "output_type": "stream",
     "text": [
      "/Users/briandunn/Desktop/python_venvs/text_sum/lib/python3.9/site-packages/transformers/modeling_utils.py:909: FutureWarning: The `device` argument is deprecated and will be removed in v5 of Transformers.\n",
      "  warnings.warn(\n"
     ]
    },
    {
     "name": "stdout",
     "output_type": "stream",
     "text": [
      "{'loss': 0.0085, 'learning_rate': 1.8750000000000003e-06, 'epoch': 21.67}\n",
      "{'loss': 0.0073, 'learning_rate': 1.75e-06, 'epoch': 22.0}\n",
      "{'loss': 0.0042, 'learning_rate': 1.6250000000000001e-06, 'epoch': 22.33}\n",
      "{'loss': 0.0099, 'learning_rate': 1.5e-06, 'epoch': 22.67}\n"
     ]
    },
    {
     "data": {
      "application/vnd.jupyter.widget-view+json": {
       "model_id": "dcaf3abdf1d4469880e71fe8154c2565",
       "version_major": 2,
       "version_minor": 0
      },
      "text/plain": [
       "  0%|          | 0/25 [00:00<?, ?it/s]"
      ]
     },
     "metadata": {},
     "output_type": "display_data"
    },
    {
     "name": "stdout",
     "output_type": "stream",
     "text": [
      "{'eval_loss': 0.30076491832733154, 'eval_precision': 0.8942213516160626, 'eval_recall': 0.907103825136612, 'eval_f1': 0.9006165228113441, 'eval_accuracy': 0.8439320099845478, 'eval_runtime': 19.5076, 'eval_samples_per_second': 2.563, 'eval_steps_per_second': 1.282, 'epoch': 22.67}\n"
     ]
    },
    {
     "name": "stderr",
     "output_type": "stream",
     "text": [
      "/Users/briandunn/Desktop/python_venvs/text_sum/lib/python3.9/site-packages/transformers/modeling_utils.py:909: FutureWarning: The `device` argument is deprecated and will be removed in v5 of Transformers.\n",
      "  warnings.warn(\n"
     ]
    },
    {
     "name": "stdout",
     "output_type": "stream",
     "text": [
      "{'loss': 0.0082, 'learning_rate': 1.3750000000000002e-06, 'epoch': 23.0}\n",
      "{'loss': 0.0108, 'learning_rate': 1.25e-06, 'epoch': 23.33}\n",
      "{'loss': 0.0045, 'learning_rate': 1.125e-06, 'epoch': 23.67}\n",
      "{'loss': 0.0069, 'learning_rate': 1.0000000000000002e-06, 'epoch': 24.0}\n"
     ]
    },
    {
     "data": {
      "application/vnd.jupyter.widget-view+json": {
       "model_id": "eb4e91bf06b14610b07253fe9be7d71b",
       "version_major": 2,
       "version_minor": 0
      },
      "text/plain": [
       "  0%|          | 0/25 [00:00<?, ?it/s]"
      ]
     },
     "metadata": {},
     "output_type": "display_data"
    },
    {
     "name": "stdout",
     "output_type": "stream",
     "text": [
      "{'eval_loss': 0.2965126931667328, 'eval_precision': 0.8942213516160626, 'eval_recall': 0.907103825136612, 'eval_f1': 0.9006165228113441, 'eval_accuracy': 0.838583145132533, 'eval_runtime': 19.1565, 'eval_samples_per_second': 2.61, 'eval_steps_per_second': 1.305, 'epoch': 24.0}\n"
     ]
    },
    {
     "name": "stderr",
     "output_type": "stream",
     "text": [
      "/Users/briandunn/Desktop/python_venvs/text_sum/lib/python3.9/site-packages/transformers/modeling_utils.py:909: FutureWarning: The `device` argument is deprecated and will be removed in v5 of Transformers.\n",
      "  warnings.warn(\n"
     ]
    },
    {
     "name": "stdout",
     "output_type": "stream",
     "text": [
      "{'loss': 0.005, 'learning_rate': 8.75e-07, 'epoch': 24.33}\n",
      "{'loss': 0.0083, 'learning_rate': 7.5e-07, 'epoch': 24.67}\n",
      "{'loss': 0.007, 'learning_rate': 6.25e-07, 'epoch': 25.0}\n",
      "{'loss': 0.0048, 'learning_rate': 5.000000000000001e-07, 'epoch': 25.33}\n"
     ]
    },
    {
     "data": {
      "application/vnd.jupyter.widget-view+json": {
       "model_id": "4f2ddefdbaa34243b476853c48b51dc7",
       "version_major": 2,
       "version_minor": 0
      },
      "text/plain": [
       "  0%|          | 0/25 [00:00<?, ?it/s]"
      ]
     },
     "metadata": {},
     "output_type": "display_data"
    },
    {
     "name": "stdout",
     "output_type": "stream",
     "text": [
      "{'eval_loss': 0.2972734570503235, 'eval_precision': 0.9026679841897233, 'eval_recall': 0.9076005961251863, 'eval_f1': 0.9051275699777062, 'eval_accuracy': 0.8501129204802093, 'eval_runtime': 19.165, 'eval_samples_per_second': 2.609, 'eval_steps_per_second': 1.304, 'epoch': 25.33}\n"
     ]
    },
    {
     "name": "stderr",
     "output_type": "stream",
     "text": [
      "/Users/briandunn/Desktop/python_venvs/text_sum/lib/python3.9/site-packages/transformers/modeling_utils.py:909: FutureWarning: The `device` argument is deprecated and will be removed in v5 of Transformers.\n",
      "  warnings.warn(\n"
     ]
    },
    {
     "name": "stdout",
     "output_type": "stream",
     "text": [
      "{'loss': 0.0059, 'learning_rate': 3.75e-07, 'epoch': 25.67}\n",
      "{'loss': 0.0083, 'learning_rate': 2.5000000000000004e-07, 'epoch': 26.0}\n",
      "{'loss': 0.0056, 'learning_rate': 1.2500000000000002e-07, 'epoch': 26.33}\n",
      "{'loss': 0.0069, 'learning_rate': 0.0, 'epoch': 26.67}\n"
     ]
    },
    {
     "data": {
      "application/vnd.jupyter.widget-view+json": {
       "model_id": "4cc6b27dd994459390efa8a474a52a5b",
       "version_major": 2,
       "version_minor": 0
      },
      "text/plain": [
       "  0%|          | 0/25 [00:00<?, ?it/s]"
      ]
     },
     "metadata": {},
     "output_type": "display_data"
    },
    {
     "name": "stdout",
     "output_type": "stream",
     "text": [
      "{'eval_loss': 0.2955743670463562, 'eval_precision': 0.8978890525282278, 'eval_recall': 0.9085941381023348, 'eval_f1': 0.9032098765432099, 'eval_accuracy': 0.8461904195887318, 'eval_runtime': 19.1955, 'eval_samples_per_second': 2.605, 'eval_steps_per_second': 1.302, 'epoch': 26.67}\n",
      "{'train_runtime': 4359.3411, 'train_samples_per_second': 0.918, 'train_steps_per_second': 0.459, 'train_loss': 0.05324296360835433, 'epoch': 26.67}\n"
     ]
    }
   ],
   "source": [
    "train_results = trainer.train()"
   ]
  },
  {
   "cell_type": "markdown",
   "metadata": {},
   "source": [
    "#### Push Model To Hub & Save Model"
   ]
  },
  {
   "cell_type": "code",
   "execution_count": 25,
   "metadata": {},
   "outputs": [
    {
     "name": "stdout",
     "output_type": "stream",
     "text": [
      "***** train metrics *****\n",
      "  epoch                    =      26.67\n",
      "  train_loss               =     0.0532\n",
      "  train_runtime            = 1:12:39.34\n",
      "  train_samples_per_second =      0.918\n",
      "  train_steps_per_second   =      0.459\n"
     ]
    }
   ],
   "source": [
    "trainer.push_to_hub()\n",
    "trainer.save_model()\n",
    "trainer.log_metrics(\"train\", train_results.metrics)\n",
    "trainer.save_metrics(\"train\", train_results.metrics)\n",
    "trainer.save_state()"
   ]
  },
  {
   "cell_type": "markdown",
   "metadata": {},
   "source": [
    "#### Evaluate Model"
   ]
  },
  {
   "cell_type": "code",
   "execution_count": 26,
   "metadata": {},
   "outputs": [
    {
     "name": "stderr",
     "output_type": "stream",
     "text": [
      "/Users/briandunn/Desktop/python_venvs/text_sum/lib/python3.9/site-packages/transformers/modeling_utils.py:909: FutureWarning: The `device` argument is deprecated and will be removed in v5 of Transformers.\n",
      "  warnings.warn(\n"
     ]
    },
    {
     "data": {
      "application/vnd.jupyter.widget-view+json": {
       "model_id": "deb51e7c8e044b9990546f0558973687",
       "version_major": 2,
       "version_minor": 0
      },
      "text/plain": [
       "  0%|          | 0/25 [00:00<?, ?it/s]"
      ]
     },
     "metadata": {},
     "output_type": "display_data"
    },
    {
     "name": "stdout",
     "output_type": "stream",
     "text": [
      "***** eval metrics *****\n",
      "  epoch                   =      26.67\n",
      "  eval_accuracy           =     0.8512\n",
      "  eval_f1                 =     0.9063\n",
      "  eval_loss               =     0.2798\n",
      "  eval_precision          =     0.8949\n",
      "  eval_recall             =      0.918\n",
      "  eval_runtime            = 0:00:19.42\n",
      "  eval_samples_per_second =      2.574\n",
      "  eval_steps_per_second   =      1.287\n"
     ]
    }
   ],
   "source": [
    "metrics = trainer.evaluate()\n",
    "trainer.log_metrics(\"eval\", metrics)\n",
    "trainer.save_metrics(\"eval\", metrics)"
   ]
  },
  {
   "cell_type": "markdown",
   "metadata": {},
   "source": [
    "### Notes & Other Takeaways From This Project\n",
    "\n",
    "****\n",
    "- I am glad that I was able to get this working.\n",
    "- I will perform inference using this trained model in a separate file.\n",
    "\n",
    "****"
   ]
  },
  {
   "cell_type": "markdown",
   "metadata": {},
   "source": [
    "### Citations\n",
    "\n",
    "- Dataset\n",
    "    > https://huggingface.co/datasets/nielsr/funsd-layoutlmv3\n",
    "\n",
    "- Model Checkpoint\n",
    "    > @inproceedings{huang2022layoutlmv3, author={Yupan Huang and Tengchao Lv and Lei Cui and Yutong Lu and Furu Wei}, title={LayoutLMv3: Pre-training for Document AI with Unified Text and Image Masking}, booktitle={Proceedings of the 30th ACM International Conference on Multimedia}, year={2022}}\n",
    "\n",
    "- Metric\n",
    "    - F1\n",
    "        > @article{scikit-learn, title={Scikit-learn: Machine Learning in {P}ython}, author={Pedregosa, F. and Varoquaux, G. and Gramfort, A. and Michel, V. and Thirion, B. and Grisel, O. and Blondel, M. and Prettenhofer, P. and Weiss, R. and Dubourg, V. and Vanderplas, J. and Passos, A. and Cournapeau, D. and Brucher, M. and Perrot, M. and Duchesnay, E.}, journal={Journal of Machine Learning Research}, volume={12}, pages={2825--2830}, year={2011}}\n",
    "\n",
    "    - Accuracy\n",
    "        > @article{scikit-learn, title={Scikit-learn: Machine Learning in {P}ython}, author={Pedregosa, F. and Varoquaux, G. and Gramfort, A. and Michel, V. and Thirion, B. and Grisel, O. and Blondel, M. and Prettenhofer, P. and Weiss, R. and Dubourg, V. and Vanderplas, J. and Passos, A. and Cournapeau, D. and Brucher, M. and Perrot, M. and Duchesnay, E.}, journal={Journal of Machine Learning Research}, volume={12}, pages={2825--2830}, year={2011}}\n",
    "    \n",
    "    - Precision\n",
    "        > @article{scikit-learn, title={Scikit-learn: Machine Learning in {P}ython}, author={Pedregosa, F. and Varoquaux, G. and Gramfort, A. and Michel, V. and Thirion, B. and Grisel, O. and Blondel, M. and Prettenhofer, P. and Weiss, R. and Dubourg, V. and Vanderplas, J. and Passos, A. and Cournapeau, D. and Brucher, M. and Perrot, M. and Duchesnay, E.}, journal={Journal of Machine Learning Research}, volume={12}, pages={2825--2830}, year={2011}}\n",
    "    \n",
    "    - Recall\n",
    "        > @article{scikit-learn, title={Scikit-learn: Machine Learning in {P}ython}, author={Pedregosa, F. and Varoquaux, G. and Gramfort, A. and Michel, V. and Thirion, B. and Grisel, O. and Blondel, M. and Prettenhofer, P. and Weiss, R. and Dubourg, V. and Vanderplas, J. and Passos, A. and Cournapeau, D. and Brucher, M. and Perrot, M. and Duchesnay, E.}, journal={Journal of Machine Learning Research}, volume={12}, pages={2825--2830}, year={2011}}\n",
    "\n"
   ]
  }
 ],
 "metadata": {
  "kernelspec": {
   "display_name": "torch_cv",
   "language": "python",
   "name": "python3"
  },
  "language_info": {
   "codemirror_mode": {
    "name": "ipython",
    "version": 3
   },
   "file_extension": ".py",
   "mimetype": "text/x-python",
   "name": "python",
   "nbconvert_exporter": "python",
   "pygments_lexer": "ipython3",
   "version": "3.9.12"
  },
  "orig_nbformat": 4
 },
 "nbformat": 4,
 "nbformat_minor": 2
}
