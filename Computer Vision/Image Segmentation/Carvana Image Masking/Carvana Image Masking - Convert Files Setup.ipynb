{
 "cells": [
  {
   "cell_type": "markdown",
   "metadata": {},
   "source": [
    "## Carvana Image Masking: Image Segmentation with LoRA\n",
    "\n",
    "* This file just creates the metadata files that for loading data (which I do in the main project).\n",
    "\n",
    "Dataset Source: https://www.kaggle.com/datasets/ipythonx/carvana-image-masking-png"
   ]
  },
  {
   "cell_type": "markdown",
   "metadata": {},
   "source": [
    "#### Import Necessary Libraries"
   ]
  },
  {
   "cell_type": "code",
   "execution_count": null,
   "metadata": {},
   "outputs": [
    {
     "name": "stdout",
     "output_type": "stream",
     "text": [
      "Git LFS initialized.\n"
     ]
    }
   ],
   "source": [
    "import os, sys, glob, shutil\n",
    "os.environ['TOKENIZERS_PARALLELISM']='false'\n",
    "\n",
    "import numpy as np\n",
    "import pandas as pd\n",
    "\n",
    "import sklearn\n",
    "from sklearn.model_selection import train_test_split\n",
    "\n",
    "from PIL import Image"
   ]
  },
  {
   "cell_type": "markdown",
   "metadata": {},
   "source": [
    "#### Display Library Versions"
   ]
  },
  {
   "cell_type": "code",
   "execution_count": null,
   "metadata": {},
   "outputs": [
    {
     "name": "stdout",
     "output_type": "stream",
     "text": [
      "          Python : 3.9.12\n",
      "           NumPy : 1.25.1\n",
      "          Pandas : 2.0.3\n",
      "    Scikit-Learn : 1.3.0\n",
      "           Torch : 2.0.1\n",
      "    Torch Vision : 0.15.2\n",
      "    Transformers : 4.26.1\n",
      "        Evaluate : 0.4.0\n",
      "            PEFT : 0.3.0\n"
     ]
    }
   ],
   "source": [
    "print(\"Python :\".rjust(18), sys.version[0:6])\n",
    "print(\"NumPy :\".rjust(18), np.__version__)\n",
    "print(\"Pandas :\".rjust(18), pd.__version__)\n",
    "print(\"Scikit-Learn :\".rjust(18), sklearn.__version__)"
   ]
  },
  {
   "cell_type": "markdown",
   "metadata": {},
   "source": [
    "#### Create & Save Metadata File"
   ]
  },
  {
   "cell_type": "code",
   "execution_count": null,
   "metadata": {},
   "outputs": [],
   "source": [
    "parent_dir = \"/Users/briandunn/Desktop/Image Segmentation Projects/Carvana Image Masking/data/\"\n",
    "\n",
    "# Gather Collection of images and masks\n",
    "image_file_names = glob.glob(f\"{parent_dir}images/*.jpg\")\n",
    "mask_file_names = glob.glob(f\"{parent_dir}masks/*.png\")\n",
    "\n",
    "# Convert Collections to Pandas DataFrames\n",
    "image_df = pd.DataFrame(image_file_names, columns=['images'])\n",
    "mask_df = pd.DataFrame(mask_file_names, columns=['annotation'])\n",
    "\n",
    "# Convert file_names from absolute to relative\n",
    "image_df['images'] = image_df['images'].apply(lambda x: x.split('data/')[-1])\n",
    "mask_df['annotation'] = mask_df['annotation'].apply(lambda x: x.split('data/')[-1])\n",
    "\n",
    "# Create column of commonality for both DataFrames\n",
    "image_df['idx'] = image_df['images'].apply(lambda x: x.split('images/')[-1]).apply(lambda x: x.split('.')[0])\n",
    "mask_df['idx'] = mask_df['annotation'].apply(lambda x: x.split('masks/')[-1]).apply(lambda x: x.split('.')[0])\n",
    "\n",
    "# Concatenate the two DataFrames with file_names and labels matching correctly\n",
    "image_df = image_df.set_index('idx')\n",
    "mask_df = mask_df.set_index('idx')\n",
    "\n",
    "meta_df = pd.concat([image_df, mask_df], axis=1)\n",
    "\n",
    "meta_df = meta_df.reset_index().drop(columns=['idx'])\n",
    "\n",
    "# Split Dataset into Training & Testing Datasets\n",
    "train_meta_df, test_meta_df = train_test_split(meta_df, \n",
    "                                               test_size=0.20)\n",
    "\n",
    "\n",
    "train_meta_df = train_meta_df.reset_index(drop=True)\n",
    "test_meta_df = test_meta_df.reset_index(drop=True)\n",
    "\n",
    "# Create Training & Testing Directories \n",
    "train_directory_location = os.path.join(parent_dir + \"training\")\n",
    "os.mkdir(train_directory_location)\n",
    "os.mkdir(os.path.join(train_directory_location, \"images\"))\n",
    "os.mkdir(os.path.join(train_directory_location, \"annotations\"))\n",
    "\n",
    "test_directory_location = os.path.join(parent_dir + \"testing\")\n",
    "os.mkdir(test_directory_location)\n",
    "os.mkdir(os.path.join(test_directory_location, \"images\"))\n",
    "os.mkdir(os.path.join(test_directory_location, \"annotations\"))"
   ]
  },
  {
   "cell_type": "markdown",
   "metadata": {},
   "source": [
    "#### Move Files in Training Dataset"
   ]
  },
  {
   "cell_type": "code",
   "execution_count": null,
   "metadata": {},
   "outputs": [],
   "source": [
    "training_images_to_relocate = train_meta_df['images'].apply(lambda x: x.split('images/')[-1])\n",
    "\n",
    "current_training_parent_dir = os.path.join(parent_dir + \"images/\")\n",
    "new_training_parent_dir = os.path.join(parent_dir + \"training/images/\")\n",
    "\n",
    "for image_files in training_images_to_relocate:\n",
    "    current_image_location = os.path.join(current_training_parent_dir + image_files)\n",
    "    new_image_location = os.path.join(new_training_parent_dir + image_files)\n",
    "    shutil.move(current_image_location, new_image_location)\n",
    "    \n",
    "training_masks_to_relocate = train_meta_df['annotation'].apply(lambda x: x.split('masks/')[-1])\n",
    "\n",
    "current_training_parent_dir = os.path.join(parent_dir + \"masks/\")\n",
    "new_training_parent_dir = os.path.join(parent_dir + \"training/annotations/\")\n",
    "\n",
    "for image_files in training_masks_to_relocate:\n",
    "    current_image_location = os.path.join(current_training_parent_dir + image_files)\n",
    "    new_image_location = os.path.join(new_training_parent_dir + image_files)\n",
    "    shutil.move(current_image_location, new_image_location)"
   ]
  },
  {
   "cell_type": "markdown",
   "metadata": {},
   "source": [
    "#### Move Files in Testing Dataset"
   ]
  },
  {
   "cell_type": "code",
   "execution_count": null,
   "metadata": {},
   "outputs": [],
   "source": [
    "testing_images_to_relocate = test_meta_df['images'].apply(lambda x: x.split('images/')[-1])\n",
    "\n",
    "current_testing_parent_dir = os.path.join(parent_dir + \"images/\")\n",
    "new_testing_parent_dir = os.path.join(parent_dir + \"testing/images/\")\n",
    "\n",
    "for image_files in testing_images_to_relocate:\n",
    "    current_image_location = os.path.join(current_testing_parent_dir + image_files)\n",
    "    new_image_location = os.path.join(new_testing_parent_dir + image_files)\n",
    "    shutil.move(current_image_location, new_image_location)\n",
    "\n",
    "testing_masks_to_relocate = test_meta_df['annotation'].apply(lambda x: x.split('masks/')[-1])\n",
    "\n",
    "current_testing_parent_dir = os.path.join(parent_dir + \"masks/\")\n",
    "new_testing_parent_dir = os.path.join(parent_dir + \"testing\", \"annotations/\")\n",
    "\n",
    "for image_files in testing_masks_to_relocate:\n",
    "    current_image_location = os.path.join(current_testing_parent_dir + image_files)\n",
    "    new_image_location = os.path.join(new_testing_parent_dir + image_files)\n",
    "    shutil.move(current_image_location, new_image_location)"
   ]
  },
  {
   "cell_type": "markdown",
   "metadata": {},
   "source": [
    "#### Update Metadata Files With Correct Image Locations"
   ]
  },
  {
   "cell_type": "code",
   "execution_count": null,
   "metadata": {},
   "outputs": [],
   "source": [
    "new_parent_dir = \"/Users/briandunn/Desktop/Image Segmentation Projects/Carvana Image Masking/data/\"\n",
    "\n",
    "### Training Metadata File\n",
    "\n",
    "# Remove current folder/prefix\n",
    "train_meta_df['images'] = train_meta_df['images'].apply(lambda x: x.split('images/')[-1])\n",
    "train_meta_df['annotation'] = train_meta_df['annotation'].apply(lambda x: x.split('masks/')[-1])\n",
    "\n",
    "train_meta_df['images'] = \"training/\" + train_meta_df['images']\n",
    "train_meta_df['annotation'] = \"training/\" + train_meta_df['annotation']\n",
    "\n",
    "# Save Metadata Files respectively\n",
    "train_meta_df.to_csv(os.path.join(new_parent_dir + \"training\", \"training.csv\"))\n",
    "\n",
    "### Testing Metadata File\n",
    "\n",
    "# Remove current folder/prefix\n",
    "test_meta_df['images'] = test_meta_df['images'].apply(lambda x: x.split('images/')[-1])\n",
    "test_meta_df['annotation'] = test_meta_df['annotation'].apply(lambda x: x.split('masks/')[-1])\n",
    "\n",
    "test_meta_df['images'] = \"testing/\" + test_meta_df['images']\n",
    "test_meta_df['annotation'] = \"testing/\" + test_meta_df['annotation']\n",
    "\n",
    "# Save Metadata Files respectively\n",
    "test_meta_df.to_csv(os.path.join(new_parent_dir + \"testing\", \"testing.csv\"))"
   ]
  }
 ],
 "metadata": {
  "language_info": {
   "name": "python"
  },
  "orig_nbformat": 4
 },
 "nbformat": 4,
 "nbformat_minor": 2
}
