{
 "cells": [
  {
   "attachments": {},
   "cell_type": "markdown",
   "metadata": {},
   "source": [
    "## Handwriting: OCR\n",
    "\n",
    "Dataset Source: https://www.kaggle.com/datasets/ssarkar445/handwriting-recognitionocr"
   ]
  },
  {
   "attachments": {},
   "cell_type": "markdown",
   "metadata": {},
   "source": [
    "##### Install Necessary Libraries"
   ]
  },
  {
   "cell_type": "code",
   "execution_count": 1,
   "metadata": {},
   "outputs": [
    {
     "name": "stdout",
     "output_type": "stream",
     "text": [
      "Requirement already satisfied: torch in /Users/leedunn/Documents/nlpnn/nlp/lib/python3.9/site-packages (1.12.1)\n",
      "Requirement already satisfied: torchvision in /Users/leedunn/Documents/nlpnn/nlp/lib/python3.9/site-packages (0.13.1)\n",
      "Requirement already satisfied: transformers in /Users/leedunn/Documents/nlpnn/nlp/lib/python3.9/site-packages (4.26.0)\n",
      "Requirement already satisfied: evaluate in /Users/leedunn/Documents/nlpnn/nlp/lib/python3.9/site-packages (0.2.2)\n",
      "Requirement already satisfied: jiwer in /Users/leedunn/Documents/nlpnn/nlp/lib/python3.9/site-packages (2.5.1)\n",
      "Requirement already satisfied: typing-extensions in /Users/leedunn/Documents/nlpnn/nlp/lib/python3.9/site-packages (from torch) (4.3.0)\n",
      "Requirement already satisfied: requests in /Users/leedunn/Documents/nlpnn/nlp/lib/python3.9/site-packages (from torchvision) (2.28.1)\n",
      "Requirement already satisfied: pillow!=8.3.*,>=5.3.0 in /Users/leedunn/Documents/nlpnn/nlp/lib/python3.9/site-packages (from torchvision) (9.2.0)\n",
      "Requirement already satisfied: numpy in /Users/leedunn/Documents/nlpnn/nlp/lib/python3.9/site-packages (from torchvision) (1.23.3)\n",
      "Requirement already satisfied: regex!=2019.12.17 in /Users/leedunn/Documents/nlpnn/nlp/lib/python3.9/site-packages (from transformers) (2022.9.11)\n",
      "Requirement already satisfied: packaging>=20.0 in /Users/leedunn/Documents/nlpnn/nlp/lib/python3.9/site-packages (from transformers) (21.3)\n",
      "Requirement already satisfied: tokenizers!=0.11.3,<0.14,>=0.11.1 in /Users/leedunn/Documents/nlpnn/nlp/lib/python3.9/site-packages (from transformers) (0.12.1)\n",
      "Requirement already satisfied: pyyaml>=5.1 in /Users/leedunn/Documents/nlpnn/nlp/lib/python3.9/site-packages (from transformers) (6.0)\n",
      "Requirement already satisfied: tqdm>=4.27 in /Users/leedunn/Documents/nlpnn/nlp/lib/python3.9/site-packages (from transformers) (4.64.1)\n",
      "Requirement already satisfied: filelock in /Users/leedunn/Documents/nlpnn/nlp/lib/python3.9/site-packages (from transformers) (3.8.0)\n",
      "Requirement already satisfied: huggingface-hub<1.0,>=0.11.0 in /Users/leedunn/Documents/nlpnn/nlp/lib/python3.9/site-packages (from transformers) (0.13.4)\n",
      "Requirement already satisfied: xxhash in /Users/leedunn/Documents/nlpnn/nlp/lib/python3.9/site-packages (from evaluate) (3.0.0)\n",
      "Requirement already satisfied: datasets>=2.0.0 in /Users/leedunn/Documents/nlpnn/nlp/lib/python3.9/site-packages (from evaluate) (2.8.0)\n",
      "Requirement already satisfied: fsspec[http]>=2021.05.0 in /Users/leedunn/Documents/nlpnn/nlp/lib/python3.9/site-packages (from evaluate) (2022.8.2)\n",
      "Requirement already satisfied: pandas in /Users/leedunn/Documents/nlpnn/nlp/lib/python3.9/site-packages (from evaluate) (1.4.4)\n",
      "Requirement already satisfied: multiprocess in /Users/leedunn/Documents/nlpnn/nlp/lib/python3.9/site-packages (from evaluate) (0.70.13)\n",
      "Requirement already satisfied: responses<0.19 in /Users/leedunn/Documents/nlpnn/nlp/lib/python3.9/site-packages (from evaluate) (0.18.0)\n",
      "Requirement already satisfied: dill in /Users/leedunn/Documents/nlpnn/nlp/lib/python3.9/site-packages (from evaluate) (0.3.5.1)\n",
      "Requirement already satisfied: levenshtein==0.20.2 in /Users/leedunn/Documents/nlpnn/nlp/lib/python3.9/site-packages (from jiwer) (0.20.2)\n",
      "Requirement already satisfied: rapidfuzz<3.0.0,>=2.3.0 in /Users/leedunn/Documents/nlpnn/nlp/lib/python3.9/site-packages (from levenshtein==0.20.2->jiwer) (2.13.7)\n",
      "Requirement already satisfied: aiohttp in /Users/leedunn/Documents/nlpnn/nlp/lib/python3.9/site-packages (from datasets>=2.0.0->evaluate) (3.8.1)\n",
      "Requirement already satisfied: pyarrow>=6.0.0 in /Users/leedunn/Documents/nlpnn/nlp/lib/python3.9/site-packages (from datasets>=2.0.0->evaluate) (9.0.0)\n",
      "Requirement already satisfied: pyparsing!=3.0.5,>=2.0.2 in /Users/leedunn/Documents/nlpnn/nlp/lib/python3.9/site-packages (from packaging>=20.0->transformers) (3.0.9)\n",
      "Requirement already satisfied: charset-normalizer<3,>=2 in /Users/leedunn/Documents/nlpnn/nlp/lib/python3.9/site-packages (from requests->torchvision) (2.1.1)\n",
      "Requirement already satisfied: certifi>=2017.4.17 in /Users/leedunn/Documents/nlpnn/nlp/lib/python3.9/site-packages (from requests->torchvision) (2022.6.15.1)\n",
      "Requirement already satisfied: idna<4,>=2.5 in /Users/leedunn/Documents/nlpnn/nlp/lib/python3.9/site-packages (from requests->torchvision) (3.3)\n",
      "Requirement already satisfied: urllib3<1.27,>=1.21.1 in /Users/leedunn/Documents/nlpnn/nlp/lib/python3.9/site-packages (from requests->torchvision) (1.26.12)\n",
      "Requirement already satisfied: python-dateutil>=2.8.1 in /Users/leedunn/Documents/nlpnn/nlp/lib/python3.9/site-packages (from pandas->evaluate) (2.8.2)\n",
      "Requirement already satisfied: pytz>=2020.1 in /Users/leedunn/Documents/nlpnn/nlp/lib/python3.9/site-packages (from pandas->evaluate) (2022.2.1)\n",
      "Requirement already satisfied: yarl<2.0,>=1.0 in /Users/leedunn/Documents/nlpnn/nlp/lib/python3.9/site-packages (from aiohttp->datasets>=2.0.0->evaluate) (1.8.1)\n",
      "Requirement already satisfied: async-timeout<5.0,>=4.0.0a3 in /Users/leedunn/Documents/nlpnn/nlp/lib/python3.9/site-packages (from aiohttp->datasets>=2.0.0->evaluate) (4.0.2)\n",
      "Requirement already satisfied: multidict<7.0,>=4.5 in /Users/leedunn/Documents/nlpnn/nlp/lib/python3.9/site-packages (from aiohttp->datasets>=2.0.0->evaluate) (6.0.2)\n",
      "Requirement already satisfied: aiosignal>=1.1.2 in /Users/leedunn/Documents/nlpnn/nlp/lib/python3.9/site-packages (from aiohttp->datasets>=2.0.0->evaluate) (1.2.0)\n",
      "Requirement already satisfied: attrs>=17.3.0 in /Users/leedunn/Documents/nlpnn/nlp/lib/python3.9/site-packages (from aiohttp->datasets>=2.0.0->evaluate) (22.1.0)\n",
      "Requirement already satisfied: frozenlist>=1.1.1 in /Users/leedunn/Documents/nlpnn/nlp/lib/python3.9/site-packages (from aiohttp->datasets>=2.0.0->evaluate) (1.3.1)\n",
      "Requirement already satisfied: six>=1.5 in /Users/leedunn/Documents/nlpnn/nlp/lib/python3.9/site-packages (from python-dateutil>=2.8.1->pandas->evaluate) (1.16.0)\n",
      "Note: you may need to restart the kernel to use updated packages.\n"
     ]
    }
   ],
   "source": [
    "%pip install torch torchvision transformers evaluate jiwer"
   ]
  },
  {
   "attachments": {},
   "cell_type": "markdown",
   "metadata": {},
   "source": [
    "##### Import Necessary Libraries"
   ]
  },
  {
   "cell_type": "code",
   "execution_count": 2,
   "metadata": {},
   "outputs": [
    {
     "name": "stdout",
     "output_type": "stream",
     "text": [
      "Git LFS initialized.\n"
     ]
    }
   ],
   "source": [
    "import os, sys\n",
    "os.environ['TOKENIZERS_PARALLELISM']='false'\n",
    "\n",
    "import tqdm\n",
    "\n",
    "import pandas as pd\n",
    "import matplotlib.pyplot as plt\n",
    "\n",
    "from PIL import Image\n",
    "\n",
    "import torch\n",
    "from torch.utils.data import Dataset\n",
    "\n",
    "import transformers\n",
    "from transformers import Seq2SeqTrainingArguments, Seq2SeqTrainer\n",
    "from transformers import VisionEncoderDecoderModel, TrOCRProcessor, default_data_collator\n",
    "\n",
    "import evaluate\n",
    "\n",
    "!git lfs install"
   ]
  },
  {
   "attachments": {},
   "cell_type": "markdown",
   "metadata": {},
   "source": [
    "##### Display Versions of Relevant Software & Libraries"
   ]
  },
  {
   "cell_type": "code",
   "execution_count": 3,
   "metadata": {},
   "outputs": [
    {
     "name": "stdout",
     "output_type": "stream",
     "text": [
      "        Python: 3.9.7 \n",
      "        Pandas: 1.4.4\n",
      "  Transformers: 4.26.0\n",
      "         Torch: 1.12.1\n"
     ]
    }
   ],
   "source": [
    "print(\"Python:\".rjust(15), sys.version[0:6])\n",
    "print(\"Pandas:\".rjust(15), pd.__version__)\n",
    "print(\"Transformers:\".rjust(15), transformers.__version__)\n",
    "print(\"Torch:\".rjust(15), torch.__version__)"
   ]
  },
  {
   "attachments": {},
   "cell_type": "markdown",
   "metadata": {},
   "source": [
    "### Ingest & (Start to) Preprocess Training Dataset"
   ]
  },
  {
   "cell_type": "code",
   "execution_count": 4,
   "metadata": {},
   "outputs": [
    {
     "name": "stdout",
     "output_type": "stream",
     "text": [
      "<class 'pandas.core.frame.DataFrame'>\n",
      "RangeIndex: 20000 entries, 0 to 19999\n",
      "Data columns (total 2 columns):\n",
      " #   Column     Non-Null Count  Dtype \n",
      "---  ------     --------------  ----- \n",
      " 0   file_name  20000 non-null  object\n",
      " 1   text       20000 non-null  object\n",
      "dtypes: object(2)\n",
      "memory usage: 312.6+ KB\n"
     ]
    }
   ],
   "source": [
    "training_parent_dir = \"/Users/leedunn/Desktop/Projects_to_Train/OCR/data/train\"\n",
    "\n",
    "train_df = pd.read_csv(os.path.join(training_parent_dir, \"_annotations.csv\"))\n",
    "\n",
    "train_df = train_df.drop(columns=['Unnamed: 0'])\n",
    "train_df = train_df.rename(columns={\"FILENAME\" : \"file_name\", \"IDENTITY\" : \"text\"})\n",
    "train_df = train_df.dropna()\n",
    "train_df.info()"
   ]
  },
  {
   "attachments": {},
   "cell_type": "markdown",
   "metadata": {},
   "source": [
    "#### Visualize: Histogram of Training Text Lengths"
   ]
  },
  {
   "cell_type": "code",
   "execution_count": 5,
   "metadata": {},
   "outputs": [
    {
     "data": {
      "image/png": "[encoded data removed]",
      "text/plain": [
       "<Figure size 1200x500 with 1 Axes>"
      ]
     },
     "metadata": {},
     "output_type": "display_data"
    }
   ],
   "source": [
    "train_df['label_len'] = train_df['text'].str.len()\n",
    "\n",
    "max_length_value = 11\n",
    "train_df.hist(\"label_len\", \n",
    "             grid=False, \n",
    "             color=\"Blue\", \n",
    "             figsize=(12,5), \n",
    "             bins=max_length_value + 1, \n",
    "             range=(0, max_length_value + 1)\n",
    "             )\n",
    "\n",
    "plt.suptitle('')\n",
    "plt.xlabel('Training Label Lengths (in Characters)')\n",
    "plt.ylabel('# of Labels')\n",
    "plt.title('Label Length')\n",
    "plt.show()\n",
    "\n",
    "train_df = train_df.drop(columns=['label_len'])"
   ]
  },
  {
   "attachments": {},
   "cell_type": "markdown",
   "metadata": {},
   "source": [
    "### Ingest & (Start to) Preprocess Evaluation Dataset"
   ]
  },
  {
   "cell_type": "code",
   "execution_count": 6,
   "metadata": {},
   "outputs": [
    {
     "name": "stdout",
     "output_type": "stream",
     "text": [
      "<class 'pandas.core.frame.DataFrame'>\n",
      "RangeIndex: 5000 entries, 0 to 4999\n",
      "Data columns (total 2 columns):\n",
      " #   Column     Non-Null Count  Dtype \n",
      "---  ------     --------------  ----- \n",
      " 0   file_name  5000 non-null   object\n",
      " 1   text       5000 non-null   object\n",
      "dtypes: object(2)\n",
      "memory usage: 78.2+ KB\n"
     ]
    }
   ],
   "source": [
    "eval_parent_dir = \"/Users/leedunn/Desktop/Projects_to_Train/OCR/data/eval\"\n",
    "\n",
    "eval_df = pd.read_csv(os.path.join(eval_parent_dir, \"_annotations.csv\"))\n",
    "\n",
    "eval_df = eval_df.drop(columns=['Unnamed: 0'])\n",
    "eval_df = eval_df.rename(columns={\"FILENAME\" : \"file_name\", \"IDENTITY\" : \"text\"})\n",
    "eval_df = eval_df.dropna()\n",
    "eval_df.info()"
   ]
  },
  {
   "attachments": {},
   "cell_type": "markdown",
   "metadata": {},
   "source": [
    "#### Visualize: Histogram of Evaluation Text Lengths"
   ]
  },
  {
   "cell_type": "code",
   "execution_count": 7,
   "metadata": {},
   "outputs": [
    {
     "data": {
      "image/png": "[encoded data removed]",
      "text/plain": [
       "<Figure size 1200x500 with 1 Axes>"
      ]
     },
     "metadata": {},
     "output_type": "display_data"
    }
   ],
   "source": [
    "eval_df['label_len'] = eval_df['text'].str.len()\n",
    "\n",
    "max_length_value = 11\n",
    "eval_df.hist(\"label_len\", \n",
    "             grid=False, \n",
    "             color=\"Blue\", \n",
    "             figsize=(12,5), \n",
    "             bins=max_length_value + 1, \n",
    "             range=(0, max_length_value + 1)\n",
    "             )\n",
    "\n",
    "plt.suptitle('')\n",
    "plt.xlabel('Evaluation Label Lengths (in Characters)')\n",
    "plt.ylabel('# of Labels')\n",
    "plt.title('Label Length')\n",
    "plt.show()\n",
    "\n",
    "eval_df = eval_df.drop(columns=['label_len'])"
   ]
  },
  {
   "attachments": {},
   "cell_type": "markdown",
   "metadata": {},
   "source": [
    "##### Create Dataset Class"
   ]
  },
  {
   "cell_type": "code",
   "execution_count": 8,
   "metadata": {},
   "outputs": [],
   "source": [
    "class Handwriting_Recognition_OCR_Dataset(Dataset):\n",
    "    \n",
    "    def __init__(self, root_dir, df, processor, max_target_length=14):\n",
    "        self.root_dir = root_dir\n",
    "        self.df = df\n",
    "        self.processor = processor\n",
    "        self.max_target_length = max_target_length\n",
    "    \n",
    "    def __len__(self):\n",
    "        return len(self.df)\n",
    "\n",
    "    def __getitem__(self, idx):\n",
    "        # get file name + text\n",
    "        file_name = self.df['file_name'][idx]\n",
    "        text = self.df['text'][idx]\n",
    "        # prepare image (i.e. resize + normalize)\n",
    "        image = Image.open(self.root_dir + file_name).convert(\"RGB\")\n",
    "        pixel_values = self.processor(image, return_tensors=\"pt\").pixel_values\n",
    "        # add labels (input_ids) by encoding the text\n",
    "        labels = self.processor.tokenizer(text, \n",
    "                                          padding=\"max_length\", \n",
    "                                          max_length=self.max_target_length\n",
    "                                          ).input_ids\n",
    "        # important: make sure that PAD tokens are ignored by the loss function\n",
    "        labels = [label if label != self.processor.tokenizer.pad_token_id \n",
    "                  else -100 for label in labels]\n",
    "        \n",
    "        encoding = {\"pixel_values\" : pixel_values.squeeze(), \"labels\" : torch.tensor(labels)}\n",
    "        return encoding"
   ]
  },
  {
   "attachments": {},
   "cell_type": "markdown",
   "metadata": {},
   "source": [
    "##### Basic Values/Constants"
   ]
  },
  {
   "cell_type": "code",
   "execution_count": 9,
   "metadata": {},
   "outputs": [],
   "source": [
    "MODEL_CKPT = \"microsoft/trocr-base-handwritten\"\n",
    "MODEL_NAME =  MODEL_CKPT.split(\"/\")[-1] + \"-OCR-handwriting_recognition_v2\"\n",
    "\n",
    "NUM_OF_EPOCHS = 3\n",
    "BATCH_SIZE = 8"
   ]
  },
  {
   "attachments": {},
   "cell_type": "markdown",
   "metadata": {},
   "source": [
    "##### Instantiate Processor, Create Training, & Testing Dataset Instances"
   ]
  },
  {
   "cell_type": "code",
   "execution_count": 10,
   "metadata": {},
   "outputs": [
    {
     "name": "stderr",
     "output_type": "stream",
     "text": [
      "Could not find image processor class in the image processor config or the model config. Loading based on pattern matching with the model's feature extractor configuration.\n"
     ]
    }
   ],
   "source": [
    "image_processor = TrOCRProcessor.from_pretrained(MODEL_CKPT)\n",
    "\n",
    "train_ds = Handwriting_Recognition_OCR_Dataset(root_dir=training_parent_dir + \"/\",\n",
    "                             df=train_df,\n",
    "                             processor=image_processor)\n",
    "\n",
    "eval_ds = Handwriting_Recognition_OCR_Dataset(root_dir=eval_parent_dir + \"/\",\n",
    "                             df=eval_df,\n",
    "                             processor=image_processor)"
   ]
  },
  {
   "attachments": {},
   "cell_type": "markdown",
   "metadata": {},
   "source": [
    "##### Print Length of Training & Testing Datasets"
   ]
  },
  {
   "cell_type": "code",
   "execution_count": 11,
   "metadata": {},
   "outputs": [
    {
     "name": "stdout",
     "output_type": "stream",
     "text": [
      "The training dataset has 20000 samples in it.\n",
      "The testing dataset has 5000 samples in it.\n"
     ]
    }
   ],
   "source": [
    "print(f\"The training dataset has {len(train_ds)} samples in it.\")\n",
    "print(f\"The testing dataset has {len(eval_ds)} samples in it.\")"
   ]
  },
  {
   "attachments": {},
   "cell_type": "markdown",
   "metadata": {},
   "source": [
    "##### Example of Input Data Shapes"
   ]
  },
  {
   "cell_type": "code",
   "execution_count": 12,
   "metadata": {},
   "outputs": [
    {
     "name": "stdout",
     "output_type": "stream",
     "text": [
      "pixel_values  :  torch.Size([3, 384, 384])\n",
      "labels  :  torch.Size([14])\n"
     ]
    }
   ],
   "source": [
    "encoding = train_ds[10]\n",
    "\n",
    "for k,v in encoding.items():\n",
    "    print(k, \" : \", v.shape)"
   ]
  },
  {
   "attachments": {},
   "cell_type": "markdown",
   "metadata": {},
   "source": [
    "##### Show Example"
   ]
  },
  {
   "cell_type": "code",
   "execution_count": 13,
   "metadata": {},
   "outputs": [
    {
     "data": {
      "image/png": "[encoded data removed]",
      "text/plain": [
       "<PIL.Image.Image image mode=RGB size=388x33>"
      ]
     },
     "execution_count": 13,
     "metadata": {},
     "output_type": "execute_result"
    }
   ],
   "source": [
    "image = Image.open(train_ds.root_dir + train_df['file_name'][10]).convert(\"RGB\")\n",
    "\n",
    "image"
   ]
  },
  {
   "attachments": {},
   "cell_type": "markdown",
   "metadata": {},
   "source": [
    "##### Show Label for Above Example"
   ]
  },
  {
   "cell_type": "code",
   "execution_count": 14,
   "metadata": {},
   "outputs": [
    {
     "name": "stdout",
     "output_type": "stream",
     "text": [
      "INES\n"
     ]
    }
   ],
   "source": [
    "labels = encoding['labels']\n",
    "labels[labels == -100] = image_processor.tokenizer.pad_token_id\n",
    "label_str = image_processor.decode(labels, skip_special_tokens=True)\n",
    "print(label_str)"
   ]
  },
  {
   "attachments": {},
   "cell_type": "markdown",
   "metadata": {},
   "source": [
    "#### Instantiate Model"
   ]
  },
  {
   "cell_type": "code",
   "execution_count": 15,
   "metadata": {},
   "outputs": [
    {
     "name": "stderr",
     "output_type": "stream",
     "text": [
      "Some weights of VisionEncoderDecoderModel were not initialized from the model checkpoint at microsoft/trocr-base-handwritten and are newly initialized: ['encoder.pooler.dense.bias', 'encoder.pooler.dense.weight']\n",
      "You should probably TRAIN this model on a down-stream task to be able to use it for predictions and inference.\n"
     ]
    }
   ],
   "source": [
    "model = VisionEncoderDecoderModel.from_pretrained(MODEL_CKPT)"
   ]
  },
  {
   "attachments": {},
   "cell_type": "markdown",
   "metadata": {},
   "source": [
    "##### Model Configuration Modifications"
   ]
  },
  {
   "cell_type": "code",
   "execution_count": 16,
   "metadata": {},
   "outputs": [
    {
     "name": "stdout",
     "output_type": "stream",
     "text": [
      "11\n"
     ]
    }
   ],
   "source": [
    "model.config.decoder_start_token_id = image_processor.tokenizer.cls_token_id\n",
    "model.config.pad_token_id = image_processor.tokenizer.pad_token_id\n",
    "\n",
    "model.config.vocab_size = model.config.decoder.vocab_size\n",
    "\n",
    "model.config.eos_token_id = image_processor.tokenizer.sep_token_id\n",
    "model.config.max_length = max_length_value\n",
    "model.config.early_stopping = True\n",
    "model.config.no_repeat_ngram_size = 3\n",
    "model.config.length_penalty = 0.0\n",
    "model.config.num_beams = 8\n",
    "\n",
    "print(model.config.max_length)"
   ]
  },
  {
   "attachments": {},
   "cell_type": "markdown",
   "metadata": {},
   "source": [
    "##### Define Metrics Evaluation"
   ]
  },
  {
   "cell_type": "code",
   "execution_count": 17,
   "metadata": {},
   "outputs": [],
   "source": [
    "cer_metric = evaluate.load(\"cer\")\n",
    "\n",
    "def compute_metrics(pred):\n",
    "    label_ids = pred.label_ids\n",
    "    pred_ids = pred.predictions\n",
    "    \n",
    "    pred_str = image_processor.batch_decode(pred_ids, skip_special_tokens=True)\n",
    "    label_ids[label_ids == -100] = image_processor.tokenizer.pad_token_id\n",
    "    label_str = image_processor.batch_decode(label_ids, skip_special_tokens=True)\n",
    "    \n",
    "    cer = cer_metric.compute(predictions=pred_str, references=label_str)\n",
    "    \n",
    "    return {\"cer\" : cer}"
   ]
  },
  {
   "attachments": {},
   "cell_type": "markdown",
   "metadata": {},
   "source": [
    "##### Define Training Arguments"
   ]
  },
  {
   "cell_type": "code",
   "execution_count": 18,
   "metadata": {},
   "outputs": [],
   "source": [
    "args = Seq2SeqTrainingArguments(\n",
    "    output_dir = MODEL_NAME,\n",
    "    num_train_epochs=NUM_OF_EPOCHS,\n",
    "    predict_with_generate=True,\n",
    "    evaluation_strategy=\"epoch\",\n",
    "    save_strategy=\"epoch\",\n",
    "    per_device_train_batch_size=BATCH_SIZE,\n",
    "    per_device_eval_batch_size=BATCH_SIZE,\n",
    "    logging_first_step=True,\n",
    "    log_level=\"error\",\n",
    "    disable_tqdm=False,\n",
    "    logging_strategy=\"steps\",\n",
    "    logging_steps=100,\n",
    "    hub_private_repo=True,\n",
    "    push_to_hub=True\n",
    ")"
   ]
  },
  {
   "attachments": {},
   "cell_type": "markdown",
   "metadata": {},
   "source": [
    "##### Define Trainer"
   ]
  },
  {
   "cell_type": "code",
   "execution_count": 19,
   "metadata": {},
   "outputs": [
    {
     "name": "stderr",
     "output_type": "stream",
     "text": [
      "/Users/leedunn/Documents/nlpnn/nlp/lib/python3.9/site-packages/transformers/models/trocr/processing_trocr.py:134: FutureWarning: `feature_extractor` is deprecated and will be removed in v5. Use `image_processor` instead.\n",
      "  warnings.warn(\n",
      "Cloning https://huggingface.co/DunnBC22/trocr-base-handwritten-OCR-handwriting_recognition_v2 into local empty directory.\n"
     ]
    }
   ],
   "source": [
    "trainer = Seq2SeqTrainer(\n",
    "    model=model,\n",
    "    tokenizer=image_processor.feature_extractor,\n",
    "    args=args,\n",
    "    compute_metrics=compute_metrics,\n",
    "    train_dataset=train_ds,\n",
    "    eval_dataset=eval_ds,\n",
    "    data_collator=default_data_collator\n",
    ")"
   ]
  },
  {
   "attachments": {},
   "cell_type": "markdown",
   "metadata": {},
   "source": [
    "##### Fit/Train Model"
   ]
  },
  {
   "cell_type": "code",
   "execution_count": 20,
   "metadata": {},
   "outputs": [
    {
     "name": "stderr",
     "output_type": "stream",
     "text": [
      "/Users/leedunn/Documents/nlpnn/nlp/lib/python3.9/site-packages/transformers/optimization.py:306: FutureWarning: This implementation of AdamW is deprecated and will be removed in a future version. Use the PyTorch implementation torch.optim.AdamW instead, or set `no_deprecation_warning=True` to disable this warning\n",
      "  warnings.warn(\n"
     ]
    },
    {
     "data": {
      "application/vnd.jupyter.widget-view+json": {
       "model_id": "d1f3b398e01543e384db25927709f042",
       "version_major": 2,
       "version_minor": 0
      },
      "text/plain": [
       "  0%|          | 0/7500 [00:00<?, ?it/s]"
      ]
     },
     "metadata": {},
     "output_type": "display_data"
    },
    {
     "name": "stdout",
     "output_type": "stream",
     "text": [
      "{'loss': 11.1109, 'learning_rate': 4.9993333333333335e-05, 'epoch': 0.0}\n",
      "{'loss': 1.4302, 'learning_rate': 4.933333333333334e-05, 'epoch': 0.04}\n",
      "{'loss': 1.2735, 'learning_rate': 4.866666666666667e-05, 'epoch': 0.08}\n",
      "{'loss': 0.988, 'learning_rate': 4.8e-05, 'epoch': 0.12}\n",
      "{'loss': 0.9493, 'learning_rate': 4.7333333333333336e-05, 'epoch': 0.16}\n",
      "{'loss': 0.8475, 'learning_rate': 4.666666666666667e-05, 'epoch': 0.2}\n",
      "{'loss': 0.914, 'learning_rate': 4.600000000000001e-05, 'epoch': 0.24}\n",
      "{'loss': 0.7928, 'learning_rate': 4.5333333333333335e-05, 'epoch': 0.28}\n",
      "{'loss': 0.7202, 'learning_rate': 4.466666666666667e-05, 'epoch': 0.32}\n",
      "{'loss': 0.7261, 'learning_rate': 4.4000000000000006e-05, 'epoch': 0.36}\n",
      "{'loss': 0.6637, 'learning_rate': 4.3333333333333334e-05, 'epoch': 0.4}\n",
      "{'loss': 0.7632, 'learning_rate': 4.266666666666667e-05, 'epoch': 0.44}\n",
      "{'loss': 0.6328, 'learning_rate': 4.2e-05, 'epoch': 0.48}\n",
      "{'loss': 0.6182, 'learning_rate': 4.133333333333333e-05, 'epoch': 0.52}\n",
      "{'loss': 0.6197, 'learning_rate': 4.066666666666667e-05, 'epoch': 0.56}\n",
      "{'loss': 0.5964, 'learning_rate': 4e-05, 'epoch': 0.6}\n",
      "{'loss': 0.5869, 'learning_rate': 3.933333333333333e-05, 'epoch': 0.64}\n",
      "{'loss': 0.5979, 'learning_rate': 3.866666666666667e-05, 'epoch': 0.68}\n",
      "{'loss': 0.5092, 'learning_rate': 3.8e-05, 'epoch': 0.72}\n",
      "{'loss': 0.5475, 'learning_rate': 3.733333333333334e-05, 'epoch': 0.76}\n",
      "{'loss': 0.5453, 'learning_rate': 3.6666666666666666e-05, 'epoch': 0.8}\n",
      "{'loss': 0.5613, 'learning_rate': 3.6e-05, 'epoch': 0.84}\n",
      "{'loss': 0.5243, 'learning_rate': 3.5333333333333336e-05, 'epoch': 0.88}\n",
      "{'loss': 0.457, 'learning_rate': 3.466666666666667e-05, 'epoch': 0.92}\n",
      "{'loss': 0.4726, 'learning_rate': 3.4000000000000007e-05, 'epoch': 0.96}\n",
      "{'loss': 0.4292, 'learning_rate': 3.3333333333333335e-05, 'epoch': 1.0}\n"
     ]
    },
    {
     "name": "stderr",
     "output_type": "stream",
     "text": [
      "/Users/leedunn/Documents/nlpnn/nlp/lib/python3.9/site-packages/transformers/generation/utils.py:1186: UserWarning: You have modified the pretrained model configuration to control generation. This is a deprecated strategy to control generation and will be removed soon, in a future version. Please use a generation configuration file (see https://huggingface.co/docs/transformers/main_classes/text_generation)\n",
      "  warnings.warn(\n"
     ]
    },
    {
     "data": {
      "application/vnd.jupyter.widget-view+json": {
       "model_id": "576294bd141d4986b4007f4fd28a513a",
       "version_major": 2,
       "version_minor": 0
      },
      "text/plain": [
       "  0%|          | 0/625 [00:00<?, ?it/s]"
      ]
     },
     "metadata": {},
     "output_type": "display_data"
    },
    {
     "name": "stdout",
     "output_type": "stream",
     "text": [
      "{'eval_loss': 0.43323373794555664, 'eval_cer': 0.06794180866639668, 'eval_runtime': 125517.0167, 'eval_samples_per_second': 0.04, 'eval_steps_per_second': 0.005, 'epoch': 1.0}\n"
     ]
    },
    {
     "name": "stderr",
     "output_type": "stream",
     "text": [
      "Adding files tracked by Git LFS: ['.DS_Store']. This may take a bit of time if the files are large.\n"
     ]
    },
    {
     "name": "stdout",
     "output_type": "stream",
     "text": [
      "{'loss': 0.3212, 'learning_rate': 3.266666666666667e-05, 'epoch': 1.04}\n",
      "{'loss': 0.3534, 'learning_rate': 3.2000000000000005e-05, 'epoch': 1.08}\n",
      "{'loss': 0.3682, 'learning_rate': 3.1333333333333334e-05, 'epoch': 1.12}\n",
      "{'loss': 0.3708, 'learning_rate': 3.066666666666667e-05, 'epoch': 1.16}\n",
      "{'loss': 0.3439, 'learning_rate': 3e-05, 'epoch': 1.2}\n",
      "{'loss': 0.3691, 'learning_rate': 2.9333333333333336e-05, 'epoch': 1.24}\n",
      "{'loss': 0.345, 'learning_rate': 2.8666666666666668e-05, 'epoch': 1.28}\n",
      "{'loss': 0.3942, 'learning_rate': 2.8000000000000003e-05, 'epoch': 1.32}\n",
      "{'loss': 0.3336, 'learning_rate': 2.733333333333333e-05, 'epoch': 1.36}\n",
      "{'loss': 0.2959, 'learning_rate': 2.6666666666666667e-05, 'epoch': 1.4}\n",
      "{'loss': 0.3582, 'learning_rate': 2.6000000000000002e-05, 'epoch': 1.44}\n",
      "{'loss': 0.3304, 'learning_rate': 2.5333333333333337e-05, 'epoch': 1.48}\n",
      "{'loss': 0.325, 'learning_rate': 2.466666666666667e-05, 'epoch': 1.52}\n",
      "{'loss': 0.2756, 'learning_rate': 2.4e-05, 'epoch': 1.56}\n",
      "{'loss': 0.2768, 'learning_rate': 2.3333333333333336e-05, 'epoch': 1.6}\n",
      "{'loss': 0.3056, 'learning_rate': 2.2666666666666668e-05, 'epoch': 1.64}\n",
      "{'loss': 0.3163, 'learning_rate': 2.2000000000000003e-05, 'epoch': 1.68}\n",
      "{'loss': 0.2721, 'learning_rate': 2.1333333333333335e-05, 'epoch': 1.72}\n",
      "{'loss': 0.2742, 'learning_rate': 2.0666666666666666e-05, 'epoch': 1.76}\n",
      "{'loss': 0.2255, 'learning_rate': 2e-05, 'epoch': 1.8}\n",
      "{'loss': 0.2637, 'learning_rate': 1.9333333333333333e-05, 'epoch': 1.84}\n",
      "{'loss': 0.2571, 'learning_rate': 1.866666666666667e-05, 'epoch': 1.88}\n",
      "{'loss': 0.2599, 'learning_rate': 1.8e-05, 'epoch': 1.92}\n",
      "{'loss': 0.2682, 'learning_rate': 1.7333333333333336e-05, 'epoch': 1.96}\n",
      "{'loss': 0.2521, 'learning_rate': 1.6666666666666667e-05, 'epoch': 2.0}\n"
     ]
    },
    {
     "data": {
      "application/vnd.jupyter.widget-view+json": {
       "model_id": "cf96b2d224a34e8a8800c137f6fe3b5c",
       "version_major": 2,
       "version_minor": 0
      },
      "text/plain": [
       "  0%|          | 0/625 [00:00<?, ?it/s]"
      ]
     },
     "metadata": {},
     "output_type": "display_data"
    },
    {
     "name": "stdout",
     "output_type": "stream",
     "text": [
      "{'eval_loss': 0.27674123644828796, 'eval_cer': 0.04834740350767889, 'eval_runtime': 122460.8505, 'eval_samples_per_second': 0.041, 'eval_steps_per_second': 0.005, 'epoch': 2.0}\n",
      "{'loss': 0.1654, 'learning_rate': 1.6000000000000003e-05, 'epoch': 2.04}\n",
      "{'loss': 0.1251, 'learning_rate': 1.5333333333333334e-05, 'epoch': 2.08}\n",
      "{'loss': 0.1448, 'learning_rate': 1.4666666666666668e-05, 'epoch': 2.12}\n",
      "{'loss': 0.1635, 'learning_rate': 1.4000000000000001e-05, 'epoch': 2.16}\n",
      "{'loss': 0.1382, 'learning_rate': 1.3333333333333333e-05, 'epoch': 2.2}\n",
      "{'loss': 0.1436, 'learning_rate': 1.2666666666666668e-05, 'epoch': 2.24}\n",
      "{'loss': 0.143, 'learning_rate': 1.2e-05, 'epoch': 2.28}\n",
      "{'loss': 0.1311, 'learning_rate': 1.1333333333333334e-05, 'epoch': 2.32}\n",
      "{'loss': 0.1339, 'learning_rate': 1.0666666666666667e-05, 'epoch': 2.36}\n",
      "{'loss': 0.1394, 'learning_rate': 1e-05, 'epoch': 2.4}\n",
      "{'loss': 0.1251, 'learning_rate': 9.333333333333334e-06, 'epoch': 2.44}\n",
      "{'loss': 0.1333, 'learning_rate': 8.666666666666668e-06, 'epoch': 2.48}\n",
      "{'loss': 0.1469, 'learning_rate': 8.000000000000001e-06, 'epoch': 2.52}\n",
      "{'loss': 0.1363, 'learning_rate': 7.333333333333334e-06, 'epoch': 2.56}\n",
      "{'loss': 0.1419, 'learning_rate': 6.666666666666667e-06, 'epoch': 2.6}\n",
      "{'loss': 0.1394, 'learning_rate': 6e-06, 'epoch': 2.64}\n",
      "{'loss': 0.1237, 'learning_rate': 5.333333333333334e-06, 'epoch': 2.68}\n",
      "{'loss': 0.151, 'learning_rate': 4.666666666666667e-06, 'epoch': 2.72}\n",
      "{'loss': 0.1307, 'learning_rate': 4.000000000000001e-06, 'epoch': 2.76}\n",
      "{'loss': 0.1066, 'learning_rate': 3.3333333333333333e-06, 'epoch': 2.8}\n",
      "{'loss': 0.1035, 'learning_rate': 2.666666666666667e-06, 'epoch': 2.84}\n",
      "{'loss': 0.1417, 'learning_rate': 2.0000000000000003e-06, 'epoch': 2.88}\n",
      "{'loss': 0.1211, 'learning_rate': 1.3333333333333334e-06, 'epoch': 2.92}\n",
      "{'loss': 0.1156, 'learning_rate': 6.666666666666667e-07, 'epoch': 2.96}\n",
      "{'loss': 0.1049, 'learning_rate': 0.0, 'epoch': 3.0}\n"
     ]
    },
    {
     "data": {
      "application/vnd.jupyter.widget-view+json": {
       "model_id": "2d7cdc26c5a145de9868973bd06a675a",
       "version_major": 2,
       "version_minor": 0
      },
      "text/plain": [
       "  0%|          | 0/625 [00:00<?, ?it/s]"
      ]
     },
     "metadata": {},
     "output_type": "display_data"
    },
    {
     "name": "stdout",
     "output_type": "stream",
     "text": [
      "{'eval_loss': 0.2470209002494812, 'eval_cer': 0.036042490888134326, 'eval_runtime': 124535.0211, 'eval_samples_per_second': 0.04, 'eval_steps_per_second': 0.005, 'epoch': 3.0}\n",
      "{'train_runtime': 1284327.9471, 'train_samples_per_second': 0.047, 'train_steps_per_second': 0.006, 'train_loss': 0.3862592127482096, 'epoch': 3.0}\n"
     ]
    }
   ],
   "source": [
    "train_results = trainer.train()"
   ]
  },
  {
   "attachments": {},
   "cell_type": "markdown",
   "metadata": {},
   "source": [
    "##### Save Model & Training Metrics"
   ]
  },
  {
   "cell_type": "code",
   "execution_count": 26,
   "metadata": {},
   "outputs": [
    {
     "name": "stderr",
     "output_type": "stream",
     "text": [
      "To https://huggingface.co/DunnBC22/trocr-base-handwritten-OCR-handwriting_recognition_v2\n",
      "   b152177..068de93  main -> main\n",
      "\n"
     ]
    },
    {
     "name": "stdout",
     "output_type": "stream",
     "text": [
      "***** train metrics *****\n",
      "  epoch                    =                  3.0\n",
      "  train_loss               =               0.3863\n",
      "  train_runtime            = 14 days, 20:45:27.94\n",
      "  train_samples_per_second =                0.047\n",
      "  train_steps_per_second   =                0.006\n"
     ]
    }
   ],
   "source": [
    "trainer.save_model()\n",
    "trainer.log_metrics(\"train\", train_results.metrics)\n",
    "trainer.save_metrics(\"train\", train_results.metrics)\n",
    "trainer.save_state()"
   ]
  },
  {
   "attachments": {},
   "cell_type": "markdown",
   "metadata": {},
   "source": [
    "##### Push Model to Hub (My Profile!!!)"
   ]
  },
  {
   "cell_type": "code",
   "execution_count": 24,
   "metadata": {},
   "outputs": [
    {
     "name": "stderr",
     "output_type": "stream",
     "text": [
      "Several commits (3) will be pushed upstream.\n",
      "The progress bars may be unreliable.\n"
     ]
    },
    {
     "data": {
      "application/vnd.jupyter.widget-view+json": {
       "model_id": "7aab57c535ac4c9ab9251467ddc0cceb",
       "version_major": 2,
       "version_minor": 0
      },
      "text/plain": [
       "Upload file pytorch_model.bin:   0%|          | 1.00/1.24G [00:00<?, ?B/s]"
      ]
     },
     "metadata": {},
     "output_type": "display_data"
    },
    {
     "data": {
      "application/vnd.jupyter.widget-view+json": {
       "model_id": "3e8e8f48377e4c62a5f68c8d08dec984",
       "version_major": 2,
       "version_minor": 0
      },
      "text/plain": [
       "Upload file runs/.DS_Store:   0%|          | 1.00/6.00k [00:00<?, ?B/s]"
      ]
     },
     "metadata": {},
     "output_type": "display_data"
    },
    {
     "data": {
      "application/vnd.jupyter.widget-view+json": {
       "model_id": "b1c1565d7da44c709e88b4546f594b72",
       "version_major": 2,
       "version_minor": 0
      },
      "text/plain": [
       "Upload file runs/Apr16_19-13-37_Lees-Air/events.out.tfevents.1681690423.Lees-Air.32246.0:   0%|          | 1.0…"
      ]
     },
     "metadata": {},
     "output_type": "display_data"
    },
    {
     "data": {
      "application/vnd.jupyter.widget-view+json": {
       "model_id": "c366f9b76b734cacaf87c49a08cf94e6",
       "version_major": 2,
       "version_minor": 0
      },
      "text/plain": [
       "Upload file .DS_Store:   0%|          | 1.00/6.00k [00:00<?, ?B/s]"
      ]
     },
     "metadata": {},
     "output_type": "display_data"
    },
    {
     "name": "stderr",
     "output_type": "stream",
     "text": [
      "To https://huggingface.co/DunnBC22/trocr-base-handwritten-OCR-handwriting_recognition_v2\n",
      "   91f19c1..56d448f  main -> main\n",
      "\n"
     ]
    }
   ],
   "source": [
    "kwargs = {\n",
    "    \"finetuned_from\" : model.config._name_or_path,\n",
    "    \"tasks\" : \"image-to-text\",\n",
    "    \"tags\" : [\"image-to-text\"],\n",
    "}\n",
    "\n",
    "if args.push_to_hub:\n",
    "    trainer.push_to_hub(\"All Dunn!!!\")\n",
    "else:\n",
    "    trainer.create_model_card(**kwargs)"
   ]
  },
  {
   "attachments": {},
   "cell_type": "markdown",
   "metadata": {},
   "source": [
    "### Notes & Other Takeaways From This Project\n",
    "****\n",
    "- Unfortunately, I had to reduce the sample size for this project to make it feasible to run. If I had kept it as it was, it would have taken about two months per epoch. Yikes! \n",
    "- A Character Error Rate (CER) of 0.0360 is pretty good for the limited training sample size.\n",
    "****"
   ]
  },
  {
   "attachments": {},
   "cell_type": "markdown",
   "metadata": {},
   "source": [
    "### Citations\n",
    "\n",
    "##### For Transformer Checkpoint\n",
    "- @misc{li2021trocr,\n",
    "      title={TrOCR: Transformer-based Optical Character Recognition with Pre-trained Models}, \n",
    "      author={Minghao Li and Tengchao Lv and Lei Cui and Yijuan Lu and Dinei Florencio and Cha Zhang and Zhoujun Li and Furu Wei},\n",
    "      year={2021},\n",
    "      eprint={2109.10282},\n",
    "      archivePrefix={arXiv},\n",
    "      primaryClass={cs.CL}\n",
    "}\n",
    "\n",
    "##### For CER Metric\n",
    "- @inproceedings{morris2004,\n",
    "author = {Morris, Andrew and Maier, Viktoria and Green, Phil},\n",
    "year = {2004},\n",
    "month = {01},\n",
    "pages = {},\n",
    "title = {From WER and RIL to MER and WIL: improved evaluation measures for connected speech recognition.}\n",
    "}"
   ]
  }
 ],
 "metadata": {
  "kernelspec": {
   "display_name": "nlp_ml",
   "language": "python",
   "name": "python3"
  },
  "language_info": {
   "codemirror_mode": {
    "name": "ipython",
    "version": 3
   },
   "file_extension": ".py",
   "mimetype": "text/x-python",
   "name": "python",
   "nbconvert_exporter": "python",
   "pygments_lexer": "ipython3",
   "version": "3.9.7"
  },
  "orig_nbformat": 4,
  "vscode": {
   "interpreter": {
    "hash": "0b7a754c5aaaa44a21e2f2148f50b931a5abdffe7ef71537f5954179554f39df"
   }
  }
 },
 "nbformat": 4,
 "nbformat_minor": 2
}
